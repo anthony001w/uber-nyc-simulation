{
 "cells": [
  {
   "cell_type": "code",
   "execution_count": 1,
   "id": "0029f147-ac7a-483a-beb6-685489bf9fb2",
   "metadata": {},
   "outputs": [],
   "source": [
    "import pandas as pd\n",
    "from sodapy import Socrata\n",
    "\n",
    "#socrata shit connects to the API endpoint\n",
    "#first string here is the link ig\n",
    "#second string is our personal access token so there's no throttle on api requests\n",
    "with Socrata('data.cityofnewyork.us', 'vA3MfkSw5kKhpzNkitJkv5yFP') as client:\n",
    "    #gets the taxi zones (the geometry of each zone in the city + the zone name and borough)\n",
    "    taxi_zones =  pd.DataFrame.from_records(client.get('755u-8jsi'))\n",
    "    \n",
    "    #gets some sample data from the high volume pickup/dropoff dataset, its not a random sample though\n",
    "    #HV0003 corresponds to Uber\n",
    "#     high_volume_query_results = client.get('yrt9-58g8', limit = 5000, where = 'hvfhs_license_num = \"HV0003\"')\n",
    "#     trip_sample = pd.DataFrame.from_records(high_volume_query_results)"
   ]
  },
  {
   "cell_type": "code",
   "execution_count": 2,
   "id": "5572851a-23f6-46fa-a6fc-e57780c408bd",
   "metadata": {},
   "outputs": [],
   "source": [
    "#some friendly transformations\n",
    "#datetime values to dt format\n",
    "#numbers to ints\n",
    "taxi_zones.location_id = taxi_zones.location_id.astype(int)\n",
    "\n",
    "def cleanup_func(trip_df):\n",
    "    tdf = trip_df.copy()\n",
    "    tdf.pulocationid = tdf.pulocationid.astype(int)\n",
    "    tdf.dolocationid = tdf.dolocationid.astype(int)\n",
    "    tdf.pickup_datetime = pd.to_datetime(tdf.pickup_datetime)\n",
    "    tdf.dropoff_datetime = pd.to_datetime(tdf.dropoff_datetime)\n",
    "    return tdf\n",
    "\n",
    "# trip_sample = cleanup_func(trip_sample)\n",
    "# trip_sample.head(1)"
   ]
  },
  {
   "cell_type": "code",
   "execution_count": 3,
   "id": "1b568d6d-270c-4b21-b49c-1c6756c2a396",
   "metadata": {},
   "outputs": [
    {
     "data": {
      "text/html": [
       "<div>\n",
       "<style scoped>\n",
       "    .dataframe tbody tr th:only-of-type {\n",
       "        vertical-align: middle;\n",
       "    }\n",
       "\n",
       "    .dataframe tbody tr th {\n",
       "        vertical-align: top;\n",
       "    }\n",
       "\n",
       "    .dataframe thead th {\n",
       "        text-align: right;\n",
       "    }\n",
       "</style>\n",
       "<table border=\"1\" class=\"dataframe\">\n",
       "  <thead>\n",
       "    <tr style=\"text-align: right;\">\n",
       "      <th></th>\n",
       "      <th>objectid</th>\n",
       "      <th>shape_leng</th>\n",
       "      <th>the_geom</th>\n",
       "      <th>shape_area</th>\n",
       "      <th>zone</th>\n",
       "      <th>location_id</th>\n",
       "      <th>borough</th>\n",
       "    </tr>\n",
       "  </thead>\n",
       "  <tbody>\n",
       "    <tr>\n",
       "      <th>0</th>\n",
       "      <td>1</td>\n",
       "      <td>0.116357453189</td>\n",
       "      <td>{'type': 'MultiPolygon', 'coordinates': [[[[-7...</td>\n",
       "      <td>0.0007823067885</td>\n",
       "      <td>Newark Airport</td>\n",
       "      <td>1</td>\n",
       "      <td>EWR</td>\n",
       "    </tr>\n",
       "    <tr>\n",
       "      <th>1</th>\n",
       "      <td>2</td>\n",
       "      <td>0.43346966679</td>\n",
       "      <td>{'type': 'MultiPolygon', 'coordinates': [[[[-7...</td>\n",
       "      <td>0.00486634037837</td>\n",
       "      <td>Jamaica Bay</td>\n",
       "      <td>2</td>\n",
       "      <td>Queens</td>\n",
       "    </tr>\n",
       "    <tr>\n",
       "      <th>2</th>\n",
       "      <td>3</td>\n",
       "      <td>0.0843411059012</td>\n",
       "      <td>{'type': 'MultiPolygon', 'coordinates': [[[[-7...</td>\n",
       "      <td>0.000314414156821</td>\n",
       "      <td>Allerton/Pelham Gardens</td>\n",
       "      <td>3</td>\n",
       "      <td>Bronx</td>\n",
       "    </tr>\n",
       "    <tr>\n",
       "      <th>3</th>\n",
       "      <td>4</td>\n",
       "      <td>0.0435665270921</td>\n",
       "      <td>{'type': 'MultiPolygon', 'coordinates': [[[[-7...</td>\n",
       "      <td>0.000111871946192</td>\n",
       "      <td>Alphabet City</td>\n",
       "      <td>4</td>\n",
       "      <td>Manhattan</td>\n",
       "    </tr>\n",
       "    <tr>\n",
       "      <th>4</th>\n",
       "      <td>5</td>\n",
       "      <td>0.0921464898574</td>\n",
       "      <td>{'type': 'MultiPolygon', 'coordinates': [[[[-7...</td>\n",
       "      <td>0.000497957489363</td>\n",
       "      <td>Arden Heights</td>\n",
       "      <td>5</td>\n",
       "      <td>Staten Island</td>\n",
       "    </tr>\n",
       "    <tr>\n",
       "      <th>...</th>\n",
       "      <td>...</td>\n",
       "      <td>...</td>\n",
       "      <td>...</td>\n",
       "      <td>...</td>\n",
       "      <td>...</td>\n",
       "      <td>...</td>\n",
       "      <td>...</td>\n",
       "    </tr>\n",
       "    <tr>\n",
       "      <th>258</th>\n",
       "      <td>256</td>\n",
       "      <td>0.0679149669603</td>\n",
       "      <td>{'type': 'MultiPolygon', 'coordinates': [[[[-7...</td>\n",
       "      <td>0.000168611097013</td>\n",
       "      <td>Williamsburg (South Side)</td>\n",
       "      <td>256</td>\n",
       "      <td>Brooklyn</td>\n",
       "    </tr>\n",
       "    <tr>\n",
       "      <th>259</th>\n",
       "      <td>259</td>\n",
       "      <td>0.126750305191</td>\n",
       "      <td>{'type': 'MultiPolygon', 'coordinates': [[[[-7...</td>\n",
       "      <td>0.000394552487366</td>\n",
       "      <td>Woodlawn/Wakefield</td>\n",
       "      <td>259</td>\n",
       "      <td>Bronx</td>\n",
       "    </tr>\n",
       "    <tr>\n",
       "      <th>260</th>\n",
       "      <td>260</td>\n",
       "      <td>0.133514154636</td>\n",
       "      <td>{'type': 'MultiPolygon', 'coordinates': [[[[-7...</td>\n",
       "      <td>0.000422345326907</td>\n",
       "      <td>Woodside</td>\n",
       "      <td>260</td>\n",
       "      <td>Queens</td>\n",
       "    </tr>\n",
       "    <tr>\n",
       "      <th>261</th>\n",
       "      <td>261</td>\n",
       "      <td>0.0271204563616</td>\n",
       "      <td>{'type': 'MultiPolygon', 'coordinates': [[[[-7...</td>\n",
       "      <td>0.0000343423231652</td>\n",
       "      <td>World Trade Center</td>\n",
       "      <td>261</td>\n",
       "      <td>Manhattan</td>\n",
       "    </tr>\n",
       "    <tr>\n",
       "      <th>262</th>\n",
       "      <td>262</td>\n",
       "      <td>0.0490636231541</td>\n",
       "      <td>{'type': 'MultiPolygon', 'coordinates': [[[[-7...</td>\n",
       "      <td>0.000122330270966</td>\n",
       "      <td>Yorkville East</td>\n",
       "      <td>262</td>\n",
       "      <td>Manhattan</td>\n",
       "    </tr>\n",
       "  </tbody>\n",
       "</table>\n",
       "<p>263 rows × 7 columns</p>\n",
       "</div>"
      ],
      "text/plain": [
       "    objectid       shape_leng  \\\n",
       "0          1   0.116357453189   \n",
       "1          2    0.43346966679   \n",
       "2          3  0.0843411059012   \n",
       "3          4  0.0435665270921   \n",
       "4          5  0.0921464898574   \n",
       "..       ...              ...   \n",
       "258      256  0.0679149669603   \n",
       "259      259   0.126750305191   \n",
       "260      260   0.133514154636   \n",
       "261      261  0.0271204563616   \n",
       "262      262  0.0490636231541   \n",
       "\n",
       "                                              the_geom          shape_area  \\\n",
       "0    {'type': 'MultiPolygon', 'coordinates': [[[[-7...     0.0007823067885   \n",
       "1    {'type': 'MultiPolygon', 'coordinates': [[[[-7...    0.00486634037837   \n",
       "2    {'type': 'MultiPolygon', 'coordinates': [[[[-7...   0.000314414156821   \n",
       "3    {'type': 'MultiPolygon', 'coordinates': [[[[-7...   0.000111871946192   \n",
       "4    {'type': 'MultiPolygon', 'coordinates': [[[[-7...   0.000497957489363   \n",
       "..                                                 ...                 ...   \n",
       "258  {'type': 'MultiPolygon', 'coordinates': [[[[-7...   0.000168611097013   \n",
       "259  {'type': 'MultiPolygon', 'coordinates': [[[[-7...   0.000394552487366   \n",
       "260  {'type': 'MultiPolygon', 'coordinates': [[[[-7...   0.000422345326907   \n",
       "261  {'type': 'MultiPolygon', 'coordinates': [[[[-7...  0.0000343423231652   \n",
       "262  {'type': 'MultiPolygon', 'coordinates': [[[[-7...   0.000122330270966   \n",
       "\n",
       "                          zone  location_id        borough  \n",
       "0               Newark Airport            1            EWR  \n",
       "1                  Jamaica Bay            2         Queens  \n",
       "2      Allerton/Pelham Gardens            3          Bronx  \n",
       "3                Alphabet City            4      Manhattan  \n",
       "4                Arden Heights            5  Staten Island  \n",
       "..                         ...          ...            ...  \n",
       "258  Williamsburg (South Side)          256       Brooklyn  \n",
       "259         Woodlawn/Wakefield          259          Bronx  \n",
       "260                   Woodside          260         Queens  \n",
       "261         World Trade Center          261      Manhattan  \n",
       "262             Yorkville East          262      Manhattan  \n",
       "\n",
       "[263 rows x 7 columns]"
      ]
     },
     "execution_count": 3,
     "metadata": {},
     "output_type": "execute_result"
    }
   ],
   "source": [
    "import numpy as np\n",
    "\n",
    "taxi_zones"
   ]
  },
  {
   "cell_type": "code",
   "execution_count": 4,
   "id": "2ce2616d-7e3f-4c11-91f0-a25c93e7f8af",
   "metadata": {},
   "outputs": [],
   "source": [
    "def add_polygons(lists, poly_list, region_id):\n",
    "    \n",
    "    if len(lists) > 1 and np.array([len(l) == 2 for l in lists]).all():\n",
    "        poly_list.append([lists, region_id])\n",
    "    else:\n",
    "        for l in lists:\n",
    "            add_polygons(l, poly_list, region_id)\n",
    "\n",
    "def merc_from_arrays(lats, lons):\n",
    "    r_major = 6378137.000\n",
    "    x = r_major * np.radians(lons)\n",
    "    scale = x/lons\n",
    "    y = 180.0/np.pi * np.log(np.tan(np.pi/4.0 + lats * (np.pi/180.0)/2.0)) * scale\n",
    "    return np.c_[x, y]\n",
    "\n",
    "polygons = []\n",
    "for i,z in taxi_zones.iterrows():\n",
    "    p = z['the_geom']['coordinates']\n",
    "    \n",
    "    add_polygons(p, polygons, z.location_id)\n",
    "    \n",
    "coords = np.concatenate([p[0] for p in polygons])\n",
    "\n",
    "mercs = merc_from_arrays(coords[:,1], coords[:,0])"
   ]
  },
  {
   "cell_type": "code",
   "execution_count": 5,
   "id": "f0191869-431a-45b7-af03-3e22e5c8aa44",
   "metadata": {},
   "outputs": [],
   "source": [
    "def convert_latlon_polygon_coords(polygon_coords, left, top, bbox_length, bbox_width):\n",
    "\n",
    "    p = np.array(polygon_coords[0])\n",
    "    merc = merc_from_arrays(p[:,1], p[:,0])\n",
    "    \n",
    "    return np.c_[np.abs(merc[:,0] - left) / bbox_length, \n",
    "                 np.abs(top - merc[:,1]) / bbox_width]\n",
    "\n",
    "left, bottom, right, top = mercs[:,0].argmin(), mercs[:,1].argmin(), mercs[:,0].argmax(), mercs[:,1].argmax()\n",
    "d_x = np.abs(mercs[left] - mercs[right])[0]\n",
    "d_y = np.abs(mercs[top] - mercs[bottom])[1]"
   ]
  },
  {
   "cell_type": "code",
   "execution_count": 8,
   "id": "a3508bd6-be22-4753-8653-fbebe8b65c7c",
   "metadata": {},
   "outputs": [],
   "source": [
    "from joblib import load\n",
    "\n",
    "dmovements = load('viz/sample_driver_movements_1_day')"
   ]
  },
  {
   "cell_type": "code",
   "execution_count": 12,
   "id": "fac7d492-b4b1-4019-99ff-65f9078c4f7d",
   "metadata": {},
   "outputs": [
    {
     "data": {
      "text/plain": [
       "914473"
      ]
     },
     "execution_count": 12,
     "metadata": {},
     "output_type": "execute_result"
    }
   ],
   "source": [
    "total_movements = 0\n",
    "for k, v in dmovements.items():\n",
    "    total_movements += len(v)\n",
    "total_movements"
   ]
  },
  {
   "cell_type": "code",
   "execution_count": 22,
   "id": "e8190460-8c8c-4091-b1f4-aaffb4be64e0",
   "metadata": {},
   "outputs": [
    {
     "data": {
      "text/plain": [
       "(0, 3.0, -1)"
      ]
     },
     "execution_count": 22,
     "metadata": {},
     "output_type": "execute_result"
    }
   ],
   "source": [
    "start_pos = dmovements[0][0]"
   ]
  },
  {
   "cell_type": "code",
   "execution_count": 23,
   "id": "d8225321-8bb9-4fea-b25d-5a76145b9742",
   "metadata": {},
   "outputs": [
    {
     "data": {
      "text/plain": [
       "[(363.77770734026956, -185.0, 59220),\n",
       " (371.9856580641057, 185, -1),\n",
       " (506.8219065033323, -213.0, 100295),\n",
       " (509.53459222428546, 213, -1),\n",
       " (544.0804468601307, -213.0, 114951),\n",
       " (547.3489823699389, 213, -1),\n",
       " (596.6553894663328, -159.0, 133797),\n",
       " (612.3193951840548, 159, -1),\n",
       " (828.4729206187062, -147.0, 208125),\n",
       " (841.6966914568202, 147, -1),\n",
       " (871.509955725973, -248.0, 223387),\n",
       " (885.1828956322541, 248, -1),\n",
       " (894.8879385788555, -78.0, 231857),\n",
       " (928.0540756488798, 78, -1),\n",
       " (971.3943155606371, -41.0, 260562),\n",
       " (989.0007812572929, 41, -1),\n",
       " (1047.1115009567536, -209.0, 291123),\n",
       " (1048.4632050399798, 209, -1),\n",
       " (1052.4320752662618, -237.0, 293532),\n",
       " (1062.1713275797044, 237, -1),\n",
       " (1062.5068065184028, -142.0, 297986),\n",
       " (1071.3710515286389, 142, -1),\n",
       " (1164.7727534615262, -237.0, 345594),\n",
       " (1175.5422658956986, -141.0, 345882),\n",
       " (1186.1893122770227, -162.0, 353158),\n",
       " (1195.0187132296344, 162, -1),\n",
       " (1195.22924137643, -79.0, 359799),\n",
       " (1257.0187253141316, 79, -1),\n",
       " (1257.5156896708484, -148.0, 386437),\n",
       " (1258.7111731945315, 148, -1),\n",
       " (1267.1273010765592, -177.0, 390388),\n",
       " (1316.6072896998905, 177, -1),\n",
       " (1322.991642053788, -37.0, 413350),\n",
       " (1344.6325502518957, 37, -1),\n",
       " (1376.3989841021619, -36.0, 434645),\n",
       " (1384.0156858059242, 36, -1),\n",
       " (1400.1824728529582, -225.0, 442963),\n",
       " (1404.3809889549907, 225, -1),\n",
       " (1407.5997290468151, -225.0, 445535),\n",
       " (1415.8737266110847, 225, -1)]"
      ]
     },
     "execution_count": 23,
     "metadata": {},
     "output_type": "execute_result"
    }
   ],
   "source": [
    "list(dmovements[0])[1:]"
   ]
  },
  {
   "cell_type": "code",
   "execution_count": 28,
   "id": "22e3a5ca-cf81-4625-ab83-61d634e5ec21",
   "metadata": {},
   "outputs": [
    {
     "data": {
      "text/plain": [
       "[((3.0, 18.0), (380.8007326082675, 390.16957518553596), 62498),\n",
       " ((18.0, 169.0), (420.20016697899507, 424.17628118791197), 70325),\n",
       " ((169.0, 167.0), (441.57314649667194, 481.21481038340494), 77258),\n",
       " ((167.0, 168.0), (551.0049915815006, 552.2405700467675), 117370),\n",
       " ((168.0, 119.0), (714.207070832674, 742.3356673706141), 170422),\n",
       " ((119.0, 151.0), (745.6624214206747, 752.2222124458743), 180351),\n",
       " ((151.0, 173.0), (753.6620202574636, 799.4097681643386), 182936),\n",
       " ((173.0, 138.0), (800.6005733639336, 806.7771246281119), 198635),\n",
       " ((138.0, 170.0), (972.7684883205206, 988.7245088836582), 261083),\n",
       " ((170.0, 42.0), (999.0457249136399, 1013.4039406290318), 271283),\n",
       " ((42.0, 159.0), (1013.4756510969331, 1013.4891359085391), 276741),\n",
       " ((159.0, 47.0), (1092.651422726216, 1100.4342183111012), 311584),\n",
       " ((47.0, 59.0), (1111.2208135468122, 1122.4708799453979), 320353),\n",
       " ((59.0, 60.0), (1132.8298695291487, 1136.9562619087321), 330693),\n",
       " ((60.0, 60.0), (1165.545310549191, 1169.379010720493), 345970),\n",
       " ((60.0, 81.0), (1175.0157943095592, 1180.4577078478105), 350392),\n",
       " ((81.0, 254.0), (1212.9039698378813, 1217.242577903975), 367325),\n",
       " ((254.0, 174.0), (1244.6647959032375, 1255.9577178195095), 380919),\n",
       " ((174.0, 213.0), (1282.4089402520547, 1286.4908925758612), 396697),\n",
       " ((213.0, 69.0), (1425.4327056530499, 1426.5059161076679), 451600)]"
      ]
     },
     "execution_count": 28,
     "metadata": {},
     "output_type": "execute_result"
    }
   ],
   "source": [
    "#transforms list of driver movements to format ((zstart,zend), (tstart, tend), p) \n",
    "#where z = zone id and t = time of destination, p = passenger\n",
    "def extract_movement_information(dmovements, starting_position):\n",
    "    current_position = starting_position[1]\n",
    "    current_time = starting_position[0]\n",
    "    movement_list = []\n",
    "    \n",
    "    i = 0\n",
    "    while i < len(dmovements):\n",
    "        #list starts off with a movement\n",
    "        current_time = dmovements[i][0]\n",
    "        \n",
    "        next_position = dmovements[i][1] * -1\n",
    "        next_time = dmovements[i + 1][0]\n",
    "        movement_list.append((\n",
    "                              (current_position, next_position),\n",
    "                              (current_time, next_time),\n",
    "                              dmovements[i][2]\n",
    "                             )\n",
    "                            )\n",
    "        current_position = next_position\n",
    "        \n",
    "        if dmovements[i + 1][1] < 0:\n",
    "            i += 1\n",
    "        else:\n",
    "            i += 2\n",
    "    return movement_list\n",
    "\n",
    "j = 2\n",
    "extract_movement_information(list(dmovements[j])[1:], dmovements[j][0])"
   ]
  },
  {
   "cell_type": "code",
   "execution_count": 3,
   "id": "5ff187c0-ad82-489d-9cba-f584d045704b",
   "metadata": {},
   "outputs": [
    {
     "data": {
      "text/plain": [
       "<AxesSubplot:ylabel='Count'>"
      ]
     },
     "execution_count": 3,
     "metadata": {},
     "output_type": "execute_result"
    },
    {
     "data": {
      "image/png": "[encoded data removed]",
      "text/plain": [
       "<Figure size 432x288 with 1 Axes>"
      ]
     },
     "metadata": {
      "needs_background": "light"
     },
     "output_type": "display_data"
    }
   ],
   "source": [
    "import seaborn as sns\n",
    "\n",
    "#trip length distribution in minutes\n",
    "\n",
    "#we can pretty easily get the average time it takes to get from one zone to another zone every day (with enough data)\n",
    "trip_lengths = (trip_sample.dropoff_datetime - trip_sample.pickup_datetime).dt.seconds / 60\n",
    "sns.histplot(trip_lengths)"
   ]
  },
  {
   "cell_type": "code",
   "execution_count": 4,
   "id": "b86b6216-51cd-4235-bd7d-15d882278546",
   "metadata": {},
   "outputs": [
    {
     "ename": "KeyboardInterrupt",
     "evalue": "",
     "output_type": "error",
     "traceback": [
      "\u001b[0;31m---------------------------------------------------------------------------\u001b[0m",
      "\u001b[0;31mKeyboardInterrupt\u001b[0m                         Traceback (most recent call last)",
      "\u001b[0;32m/var/folders/wr/3f6c7trx765crlxgg7r6594c0000gn/T/ipykernel_3397/451532972.py\u001b[0m in \u001b[0;36m<module>\u001b[0;34m\u001b[0m\n\u001b[1;32m      7\u001b[0m     \u001b[0;31m#get a bunch of records (10M)\u001b[0m\u001b[0;34m\u001b[0m\u001b[0;34m\u001b[0m\u001b[0;34m\u001b[0m\u001b[0m\n\u001b[1;32m      8\u001b[0m     \u001b[0;31m#HV0003 corresponds to Uber\u001b[0m\u001b[0;34m\u001b[0m\u001b[0;34m\u001b[0m\u001b[0;34m\u001b[0m\u001b[0m\n\u001b[0;32m----> 9\u001b[0;31m     \u001b[0mhigh_volume_query_results\u001b[0m \u001b[0;34m=\u001b[0m \u001b[0mclient\u001b[0m\u001b[0;34m.\u001b[0m\u001b[0mget\u001b[0m\u001b[0;34m(\u001b[0m\u001b[0;34m'yrt9-58g8'\u001b[0m\u001b[0;34m,\u001b[0m \u001b[0mlimit\u001b[0m \u001b[0;34m=\u001b[0m \u001b[0;36m1000000\u001b[0m\u001b[0;34m,\u001b[0m \u001b[0mwhere\u001b[0m \u001b[0;34m=\u001b[0m \u001b[0;34m'hvfhs_license_num = \"HV0003\"'\u001b[0m\u001b[0;34m)\u001b[0m\u001b[0;34m\u001b[0m\u001b[0;34m\u001b[0m\u001b[0m\n\u001b[0m\u001b[1;32m     10\u001b[0m     \u001b[0mtrips\u001b[0m \u001b[0;34m=\u001b[0m \u001b[0mcleanup_func\u001b[0m\u001b[0;34m(\u001b[0m\u001b[0mpd\u001b[0m\u001b[0;34m.\u001b[0m\u001b[0mDataFrame\u001b[0m\u001b[0;34m.\u001b[0m\u001b[0mfrom_records\u001b[0m\u001b[0;34m(\u001b[0m\u001b[0mhigh_volume_query_results\u001b[0m\u001b[0;34m)\u001b[0m\u001b[0;34m)\u001b[0m\u001b[0;34m\u001b[0m\u001b[0;34m\u001b[0m\u001b[0m\n\u001b[1;32m     11\u001b[0m \u001b[0;34m\u001b[0m\u001b[0m\n",
      "\u001b[0;32m/usr/local/lib/python3.9/site-packages/sodapy/socrata.py\u001b[0m in \u001b[0;36mget\u001b[0;34m(self, dataset_identifier, content_type, **kwargs)\u001b[0m\n\u001b[1;32m    410\u001b[0m         \u001b[0mparams\u001b[0m \u001b[0;34m=\u001b[0m \u001b[0mutils\u001b[0m\u001b[0;34m.\u001b[0m\u001b[0mclear_empty_values\u001b[0m\u001b[0;34m(\u001b[0m\u001b[0mparams\u001b[0m\u001b[0;34m)\u001b[0m\u001b[0;34m\u001b[0m\u001b[0;34m\u001b[0m\u001b[0m\n\u001b[1;32m    411\u001b[0m \u001b[0;34m\u001b[0m\u001b[0m\n\u001b[0;32m--> 412\u001b[0;31m         response = self._perform_request(\n\u001b[0m\u001b[1;32m    413\u001b[0m             \u001b[0;34m\"get\"\u001b[0m\u001b[0;34m,\u001b[0m \u001b[0mresource\u001b[0m\u001b[0;34m,\u001b[0m \u001b[0mheaders\u001b[0m\u001b[0;34m=\u001b[0m\u001b[0mheaders\u001b[0m\u001b[0;34m,\u001b[0m \u001b[0mparams\u001b[0m\u001b[0;34m=\u001b[0m\u001b[0mparams\u001b[0m\u001b[0;34m\u001b[0m\u001b[0;34m\u001b[0m\u001b[0m\n\u001b[1;32m    414\u001b[0m         )\n",
      "\u001b[0;32m/usr/local/lib/python3.9/site-packages/sodapy/socrata.py\u001b[0m in \u001b[0;36m_perform_request\u001b[0;34m(self, request_type, resource, **kwargs)\u001b[0m\n\u001b[1;32m    549\u001b[0m         \u001b[0mkwargs\u001b[0m\u001b[0;34m[\u001b[0m\u001b[0;34m\"timeout\"\u001b[0m\u001b[0;34m]\u001b[0m \u001b[0;34m=\u001b[0m \u001b[0mself\u001b[0m\u001b[0;34m.\u001b[0m\u001b[0mtimeout\u001b[0m\u001b[0;34m\u001b[0m\u001b[0;34m\u001b[0m\u001b[0m\n\u001b[1;32m    550\u001b[0m \u001b[0;34m\u001b[0m\u001b[0m\n\u001b[0;32m--> 551\u001b[0;31m         \u001b[0mresponse\u001b[0m \u001b[0;34m=\u001b[0m \u001b[0mgetattr\u001b[0m\u001b[0;34m(\u001b[0m\u001b[0mself\u001b[0m\u001b[0;34m.\u001b[0m\u001b[0msession\u001b[0m\u001b[0;34m,\u001b[0m \u001b[0mrequest_type\u001b[0m\u001b[0;34m)\u001b[0m\u001b[0;34m(\u001b[0m\u001b[0muri\u001b[0m\u001b[0;34m,\u001b[0m \u001b[0;34m**\u001b[0m\u001b[0mkwargs\u001b[0m\u001b[0;34m)\u001b[0m\u001b[0;34m\u001b[0m\u001b[0;34m\u001b[0m\u001b[0m\n\u001b[0m\u001b[1;32m    552\u001b[0m \u001b[0;34m\u001b[0m\u001b[0m\n\u001b[1;32m    553\u001b[0m         \u001b[0;31m# handle errors\u001b[0m\u001b[0;34m\u001b[0m\u001b[0;34m\u001b[0m\u001b[0;34m\u001b[0m\u001b[0m\n",
      "\u001b[0;32m/usr/local/lib/python3.9/site-packages/requests/sessions.py\u001b[0m in \u001b[0;36mget\u001b[0;34m(self, url, **kwargs)\u001b[0m\n\u001b[1;32m    553\u001b[0m \u001b[0;34m\u001b[0m\u001b[0m\n\u001b[1;32m    554\u001b[0m         \u001b[0mkwargs\u001b[0m\u001b[0;34m.\u001b[0m\u001b[0msetdefault\u001b[0m\u001b[0;34m(\u001b[0m\u001b[0;34m'allow_redirects'\u001b[0m\u001b[0;34m,\u001b[0m \u001b[0;32mTrue\u001b[0m\u001b[0;34m)\u001b[0m\u001b[0;34m\u001b[0m\u001b[0;34m\u001b[0m\u001b[0m\n\u001b[0;32m--> 555\u001b[0;31m         \u001b[0;32mreturn\u001b[0m \u001b[0mself\u001b[0m\u001b[0;34m.\u001b[0m\u001b[0mrequest\u001b[0m\u001b[0;34m(\u001b[0m\u001b[0;34m'GET'\u001b[0m\u001b[0;34m,\u001b[0m \u001b[0murl\u001b[0m\u001b[0;34m,\u001b[0m \u001b[0;34m**\u001b[0m\u001b[0mkwargs\u001b[0m\u001b[0;34m)\u001b[0m\u001b[0;34m\u001b[0m\u001b[0;34m\u001b[0m\u001b[0m\n\u001b[0m\u001b[1;32m    556\u001b[0m \u001b[0;34m\u001b[0m\u001b[0m\n\u001b[1;32m    557\u001b[0m     \u001b[0;32mdef\u001b[0m \u001b[0moptions\u001b[0m\u001b[0;34m(\u001b[0m\u001b[0mself\u001b[0m\u001b[0;34m,\u001b[0m \u001b[0murl\u001b[0m\u001b[0;34m,\u001b[0m \u001b[0;34m**\u001b[0m\u001b[0mkwargs\u001b[0m\u001b[0;34m)\u001b[0m\u001b[0;34m:\u001b[0m\u001b[0;34m\u001b[0m\u001b[0;34m\u001b[0m\u001b[0m\n",
      "\u001b[0;32m/usr/local/lib/python3.9/site-packages/requests/sessions.py\u001b[0m in \u001b[0;36mrequest\u001b[0;34m(self, method, url, params, data, headers, cookies, files, auth, timeout, allow_redirects, proxies, hooks, stream, verify, cert, json)\u001b[0m\n\u001b[1;32m    540\u001b[0m         }\n\u001b[1;32m    541\u001b[0m         \u001b[0msend_kwargs\u001b[0m\u001b[0;34m.\u001b[0m\u001b[0mupdate\u001b[0m\u001b[0;34m(\u001b[0m\u001b[0msettings\u001b[0m\u001b[0;34m)\u001b[0m\u001b[0;34m\u001b[0m\u001b[0;34m\u001b[0m\u001b[0m\n\u001b[0;32m--> 542\u001b[0;31m         \u001b[0mresp\u001b[0m \u001b[0;34m=\u001b[0m \u001b[0mself\u001b[0m\u001b[0;34m.\u001b[0m\u001b[0msend\u001b[0m\u001b[0;34m(\u001b[0m\u001b[0mprep\u001b[0m\u001b[0;34m,\u001b[0m \u001b[0;34m**\u001b[0m\u001b[0msend_kwargs\u001b[0m\u001b[0;34m)\u001b[0m\u001b[0;34m\u001b[0m\u001b[0;34m\u001b[0m\u001b[0m\n\u001b[0m\u001b[1;32m    543\u001b[0m \u001b[0;34m\u001b[0m\u001b[0m\n\u001b[1;32m    544\u001b[0m         \u001b[0;32mreturn\u001b[0m \u001b[0mresp\u001b[0m\u001b[0;34m\u001b[0m\u001b[0;34m\u001b[0m\u001b[0m\n",
      "\u001b[0;32m/usr/local/lib/python3.9/site-packages/requests/sessions.py\u001b[0m in \u001b[0;36msend\u001b[0;34m(self, request, **kwargs)\u001b[0m\n\u001b[1;32m    695\u001b[0m \u001b[0;34m\u001b[0m\u001b[0m\n\u001b[1;32m    696\u001b[0m         \u001b[0;32mif\u001b[0m \u001b[0;32mnot\u001b[0m \u001b[0mstream\u001b[0m\u001b[0;34m:\u001b[0m\u001b[0;34m\u001b[0m\u001b[0;34m\u001b[0m\u001b[0m\n\u001b[0;32m--> 697\u001b[0;31m             \u001b[0mr\u001b[0m\u001b[0;34m.\u001b[0m\u001b[0mcontent\u001b[0m\u001b[0;34m\u001b[0m\u001b[0;34m\u001b[0m\u001b[0m\n\u001b[0m\u001b[1;32m    698\u001b[0m \u001b[0;34m\u001b[0m\u001b[0m\n\u001b[1;32m    699\u001b[0m         \u001b[0;32mreturn\u001b[0m \u001b[0mr\u001b[0m\u001b[0;34m\u001b[0m\u001b[0;34m\u001b[0m\u001b[0m\n",
      "\u001b[0;32m/usr/local/lib/python3.9/site-packages/requests/models.py\u001b[0m in \u001b[0;36mcontent\u001b[0;34m(self)\u001b[0m\n\u001b[1;32m    834\u001b[0m                 \u001b[0mself\u001b[0m\u001b[0;34m.\u001b[0m\u001b[0m_content\u001b[0m \u001b[0;34m=\u001b[0m \u001b[0;32mNone\u001b[0m\u001b[0;34m\u001b[0m\u001b[0;34m\u001b[0m\u001b[0m\n\u001b[1;32m    835\u001b[0m             \u001b[0;32melse\u001b[0m\u001b[0;34m:\u001b[0m\u001b[0;34m\u001b[0m\u001b[0;34m\u001b[0m\u001b[0m\n\u001b[0;32m--> 836\u001b[0;31m                 \u001b[0mself\u001b[0m\u001b[0;34m.\u001b[0m\u001b[0m_content\u001b[0m \u001b[0;34m=\u001b[0m \u001b[0;34mb''\u001b[0m\u001b[0;34m.\u001b[0m\u001b[0mjoin\u001b[0m\u001b[0;34m(\u001b[0m\u001b[0mself\u001b[0m\u001b[0;34m.\u001b[0m\u001b[0miter_content\u001b[0m\u001b[0;34m(\u001b[0m\u001b[0mCONTENT_CHUNK_SIZE\u001b[0m\u001b[0;34m)\u001b[0m\u001b[0;34m)\u001b[0m \u001b[0;32mor\u001b[0m \u001b[0;34mb''\u001b[0m\u001b[0;34m\u001b[0m\u001b[0;34m\u001b[0m\u001b[0m\n\u001b[0m\u001b[1;32m    837\u001b[0m \u001b[0;34m\u001b[0m\u001b[0m\n\u001b[1;32m    838\u001b[0m         \u001b[0mself\u001b[0m\u001b[0;34m.\u001b[0m\u001b[0m_content_consumed\u001b[0m \u001b[0;34m=\u001b[0m \u001b[0;32mTrue\u001b[0m\u001b[0;34m\u001b[0m\u001b[0;34m\u001b[0m\u001b[0m\n",
      "\u001b[0;32m/usr/local/lib/python3.9/site-packages/requests/models.py\u001b[0m in \u001b[0;36mgenerate\u001b[0;34m()\u001b[0m\n\u001b[1;32m    756\u001b[0m             \u001b[0;32mif\u001b[0m \u001b[0mhasattr\u001b[0m\u001b[0;34m(\u001b[0m\u001b[0mself\u001b[0m\u001b[0;34m.\u001b[0m\u001b[0mraw\u001b[0m\u001b[0;34m,\u001b[0m \u001b[0;34m'stream'\u001b[0m\u001b[0;34m)\u001b[0m\u001b[0;34m:\u001b[0m\u001b[0;34m\u001b[0m\u001b[0;34m\u001b[0m\u001b[0m\n\u001b[1;32m    757\u001b[0m                 \u001b[0;32mtry\u001b[0m\u001b[0;34m:\u001b[0m\u001b[0;34m\u001b[0m\u001b[0;34m\u001b[0m\u001b[0m\n\u001b[0;32m--> 758\u001b[0;31m                     \u001b[0;32mfor\u001b[0m \u001b[0mchunk\u001b[0m \u001b[0;32min\u001b[0m \u001b[0mself\u001b[0m\u001b[0;34m.\u001b[0m\u001b[0mraw\u001b[0m\u001b[0;34m.\u001b[0m\u001b[0mstream\u001b[0m\u001b[0;34m(\u001b[0m\u001b[0mchunk_size\u001b[0m\u001b[0;34m,\u001b[0m \u001b[0mdecode_content\u001b[0m\u001b[0;34m=\u001b[0m\u001b[0;32mTrue\u001b[0m\u001b[0;34m)\u001b[0m\u001b[0;34m:\u001b[0m\u001b[0;34m\u001b[0m\u001b[0;34m\u001b[0m\u001b[0m\n\u001b[0m\u001b[1;32m    759\u001b[0m                         \u001b[0;32myield\u001b[0m \u001b[0mchunk\u001b[0m\u001b[0;34m\u001b[0m\u001b[0;34m\u001b[0m\u001b[0m\n\u001b[1;32m    760\u001b[0m                 \u001b[0;32mexcept\u001b[0m \u001b[0mProtocolError\u001b[0m \u001b[0;32mas\u001b[0m \u001b[0me\u001b[0m\u001b[0;34m:\u001b[0m\u001b[0;34m\u001b[0m\u001b[0;34m\u001b[0m\u001b[0m\n",
      "\u001b[0;32m/usr/local/lib/python3.9/site-packages/urllib3/response.py\u001b[0m in \u001b[0;36mstream\u001b[0;34m(self, amt, decode_content)\u001b[0m\n\u001b[1;32m    570\u001b[0m         \"\"\"\n\u001b[1;32m    571\u001b[0m         \u001b[0;32mif\u001b[0m \u001b[0mself\u001b[0m\u001b[0;34m.\u001b[0m\u001b[0mchunked\u001b[0m \u001b[0;32mand\u001b[0m \u001b[0mself\u001b[0m\u001b[0;34m.\u001b[0m\u001b[0msupports_chunked_reads\u001b[0m\u001b[0;34m(\u001b[0m\u001b[0;34m)\u001b[0m\u001b[0;34m:\u001b[0m\u001b[0;34m\u001b[0m\u001b[0;34m\u001b[0m\u001b[0m\n\u001b[0;32m--> 572\u001b[0;31m             \u001b[0;32mfor\u001b[0m \u001b[0mline\u001b[0m \u001b[0;32min\u001b[0m \u001b[0mself\u001b[0m\u001b[0;34m.\u001b[0m\u001b[0mread_chunked\u001b[0m\u001b[0;34m(\u001b[0m\u001b[0mamt\u001b[0m\u001b[0;34m,\u001b[0m \u001b[0mdecode_content\u001b[0m\u001b[0;34m=\u001b[0m\u001b[0mdecode_content\u001b[0m\u001b[0;34m)\u001b[0m\u001b[0;34m:\u001b[0m\u001b[0;34m\u001b[0m\u001b[0;34m\u001b[0m\u001b[0m\n\u001b[0m\u001b[1;32m    573\u001b[0m                 \u001b[0;32myield\u001b[0m \u001b[0mline\u001b[0m\u001b[0;34m\u001b[0m\u001b[0;34m\u001b[0m\u001b[0m\n\u001b[1;32m    574\u001b[0m         \u001b[0;32melse\u001b[0m\u001b[0;34m:\u001b[0m\u001b[0;34m\u001b[0m\u001b[0;34m\u001b[0m\u001b[0m\n",
      "\u001b[0;32m/usr/local/lib/python3.9/site-packages/urllib3/response.py\u001b[0m in \u001b[0;36mread_chunked\u001b[0;34m(self, amt, decode_content)\u001b[0m\n\u001b[1;32m    765\u001b[0m                 \u001b[0;32mif\u001b[0m \u001b[0mself\u001b[0m\u001b[0;34m.\u001b[0m\u001b[0mchunk_left\u001b[0m \u001b[0;34m==\u001b[0m \u001b[0;36m0\u001b[0m\u001b[0;34m:\u001b[0m\u001b[0;34m\u001b[0m\u001b[0;34m\u001b[0m\u001b[0m\n\u001b[1;32m    766\u001b[0m                     \u001b[0;32mbreak\u001b[0m\u001b[0;34m\u001b[0m\u001b[0;34m\u001b[0m\u001b[0m\n\u001b[0;32m--> 767\u001b[0;31m                 \u001b[0mchunk\u001b[0m \u001b[0;34m=\u001b[0m \u001b[0mself\u001b[0m\u001b[0;34m.\u001b[0m\u001b[0m_handle_chunk\u001b[0m\u001b[0;34m(\u001b[0m\u001b[0mamt\u001b[0m\u001b[0;34m)\u001b[0m\u001b[0;34m\u001b[0m\u001b[0;34m\u001b[0m\u001b[0m\n\u001b[0m\u001b[1;32m    768\u001b[0m                 decoded = self._decode(\n\u001b[1;32m    769\u001b[0m                     \u001b[0mchunk\u001b[0m\u001b[0;34m,\u001b[0m \u001b[0mdecode_content\u001b[0m\u001b[0;34m=\u001b[0m\u001b[0mdecode_content\u001b[0m\u001b[0;34m,\u001b[0m \u001b[0mflush_decoder\u001b[0m\u001b[0;34m=\u001b[0m\u001b[0;32mFalse\u001b[0m\u001b[0;34m\u001b[0m\u001b[0;34m\u001b[0m\u001b[0m\n",
      "\u001b[0;32m/usr/local/lib/python3.9/site-packages/urllib3/response.py\u001b[0m in \u001b[0;36m_handle_chunk\u001b[0;34m(self, amt)\u001b[0m\n\u001b[1;32m    718\u001b[0m             \u001b[0mreturned_chunk\u001b[0m \u001b[0;34m=\u001b[0m \u001b[0mvalue\u001b[0m\u001b[0;34m\u001b[0m\u001b[0;34m\u001b[0m\u001b[0m\n\u001b[1;32m    719\u001b[0m         \u001b[0;32melse\u001b[0m\u001b[0;34m:\u001b[0m  \u001b[0;31m# amt > self.chunk_left\u001b[0m\u001b[0;34m\u001b[0m\u001b[0;34m\u001b[0m\u001b[0m\n\u001b[0;32m--> 720\u001b[0;31m             \u001b[0mreturned_chunk\u001b[0m \u001b[0;34m=\u001b[0m \u001b[0mself\u001b[0m\u001b[0;34m.\u001b[0m\u001b[0m_fp\u001b[0m\u001b[0;34m.\u001b[0m\u001b[0m_safe_read\u001b[0m\u001b[0;34m(\u001b[0m\u001b[0mself\u001b[0m\u001b[0;34m.\u001b[0m\u001b[0mchunk_left\u001b[0m\u001b[0;34m)\u001b[0m\u001b[0;34m\u001b[0m\u001b[0;34m\u001b[0m\u001b[0m\n\u001b[0m\u001b[1;32m    721\u001b[0m             \u001b[0mself\u001b[0m\u001b[0;34m.\u001b[0m\u001b[0m_fp\u001b[0m\u001b[0;34m.\u001b[0m\u001b[0m_safe_read\u001b[0m\u001b[0;34m(\u001b[0m\u001b[0;36m2\u001b[0m\u001b[0;34m)\u001b[0m  \u001b[0;31m# Toss the CRLF at the end of the chunk.\u001b[0m\u001b[0;34m\u001b[0m\u001b[0;34m\u001b[0m\u001b[0m\n\u001b[1;32m    722\u001b[0m             \u001b[0mself\u001b[0m\u001b[0;34m.\u001b[0m\u001b[0mchunk_left\u001b[0m \u001b[0;34m=\u001b[0m \u001b[0;32mNone\u001b[0m\u001b[0;34m\u001b[0m\u001b[0;34m\u001b[0m\u001b[0m\n",
      "\u001b[0;32m/usr/local/Cellar/python@3.9/3.9.5/Frameworks/Python.framework/Versions/3.9/lib/python3.9/http/client.py\u001b[0m in \u001b[0;36m_safe_read\u001b[0;34m(self, amt)\u001b[0m\n\u001b[1;32m    607\u001b[0m         \u001b[0mIncompleteRead\u001b[0m \u001b[0mexception\u001b[0m \u001b[0mcan\u001b[0m \u001b[0mbe\u001b[0m \u001b[0mused\u001b[0m \u001b[0mto\u001b[0m \u001b[0mdetect\u001b[0m \u001b[0mthe\u001b[0m \u001b[0mproblem\u001b[0m\u001b[0;34m.\u001b[0m\u001b[0;34m\u001b[0m\u001b[0;34m\u001b[0m\u001b[0m\n\u001b[1;32m    608\u001b[0m         \"\"\"\n\u001b[0;32m--> 609\u001b[0;31m         \u001b[0mdata\u001b[0m \u001b[0;34m=\u001b[0m \u001b[0mself\u001b[0m\u001b[0;34m.\u001b[0m\u001b[0mfp\u001b[0m\u001b[0;34m.\u001b[0m\u001b[0mread\u001b[0m\u001b[0;34m(\u001b[0m\u001b[0mamt\u001b[0m\u001b[0;34m)\u001b[0m\u001b[0;34m\u001b[0m\u001b[0;34m\u001b[0m\u001b[0m\n\u001b[0m\u001b[1;32m    610\u001b[0m         \u001b[0;32mif\u001b[0m \u001b[0mlen\u001b[0m\u001b[0;34m(\u001b[0m\u001b[0mdata\u001b[0m\u001b[0;34m)\u001b[0m \u001b[0;34m<\u001b[0m \u001b[0mamt\u001b[0m\u001b[0;34m:\u001b[0m\u001b[0;34m\u001b[0m\u001b[0;34m\u001b[0m\u001b[0m\n\u001b[1;32m    611\u001b[0m             \u001b[0;32mraise\u001b[0m \u001b[0mIncompleteRead\u001b[0m\u001b[0;34m(\u001b[0m\u001b[0mdata\u001b[0m\u001b[0;34m,\u001b[0m \u001b[0mamt\u001b[0m\u001b[0;34m-\u001b[0m\u001b[0mlen\u001b[0m\u001b[0;34m(\u001b[0m\u001b[0mdata\u001b[0m\u001b[0;34m)\u001b[0m\u001b[0;34m)\u001b[0m\u001b[0;34m\u001b[0m\u001b[0;34m\u001b[0m\u001b[0m\n",
      "\u001b[0;32m/usr/local/Cellar/python@3.9/3.9.5/Frameworks/Python.framework/Versions/3.9/lib/python3.9/socket.py\u001b[0m in \u001b[0;36mreadinto\u001b[0;34m(self, b)\u001b[0m\n\u001b[1;32m    702\u001b[0m         \u001b[0;32mwhile\u001b[0m \u001b[0;32mTrue\u001b[0m\u001b[0;34m:\u001b[0m\u001b[0;34m\u001b[0m\u001b[0;34m\u001b[0m\u001b[0m\n\u001b[1;32m    703\u001b[0m             \u001b[0;32mtry\u001b[0m\u001b[0;34m:\u001b[0m\u001b[0;34m\u001b[0m\u001b[0;34m\u001b[0m\u001b[0m\n\u001b[0;32m--> 704\u001b[0;31m                 \u001b[0;32mreturn\u001b[0m \u001b[0mself\u001b[0m\u001b[0;34m.\u001b[0m\u001b[0m_sock\u001b[0m\u001b[0;34m.\u001b[0m\u001b[0mrecv_into\u001b[0m\u001b[0;34m(\u001b[0m\u001b[0mb\u001b[0m\u001b[0;34m)\u001b[0m\u001b[0;34m\u001b[0m\u001b[0;34m\u001b[0m\u001b[0m\n\u001b[0m\u001b[1;32m    705\u001b[0m             \u001b[0;32mexcept\u001b[0m \u001b[0mtimeout\u001b[0m\u001b[0;34m:\u001b[0m\u001b[0;34m\u001b[0m\u001b[0;34m\u001b[0m\u001b[0m\n\u001b[1;32m    706\u001b[0m                 \u001b[0mself\u001b[0m\u001b[0;34m.\u001b[0m\u001b[0m_timeout_occurred\u001b[0m \u001b[0;34m=\u001b[0m \u001b[0;32mTrue\u001b[0m\u001b[0;34m\u001b[0m\u001b[0;34m\u001b[0m\u001b[0m\n",
      "\u001b[0;32m/usr/local/Cellar/python@3.9/3.9.5/Frameworks/Python.framework/Versions/3.9/lib/python3.9/ssl.py\u001b[0m in \u001b[0;36mrecv_into\u001b[0;34m(self, buffer, nbytes, flags)\u001b[0m\n\u001b[1;32m   1239\u001b[0m                   \u001b[0;34m\"non-zero flags not allowed in calls to recv_into() on %s\"\u001b[0m \u001b[0;34m%\u001b[0m\u001b[0;34m\u001b[0m\u001b[0;34m\u001b[0m\u001b[0m\n\u001b[1;32m   1240\u001b[0m                   self.__class__)\n\u001b[0;32m-> 1241\u001b[0;31m             \u001b[0;32mreturn\u001b[0m \u001b[0mself\u001b[0m\u001b[0;34m.\u001b[0m\u001b[0mread\u001b[0m\u001b[0;34m(\u001b[0m\u001b[0mnbytes\u001b[0m\u001b[0;34m,\u001b[0m \u001b[0mbuffer\u001b[0m\u001b[0;34m)\u001b[0m\u001b[0;34m\u001b[0m\u001b[0;34m\u001b[0m\u001b[0m\n\u001b[0m\u001b[1;32m   1242\u001b[0m         \u001b[0;32melse\u001b[0m\u001b[0;34m:\u001b[0m\u001b[0;34m\u001b[0m\u001b[0;34m\u001b[0m\u001b[0m\n\u001b[1;32m   1243\u001b[0m             \u001b[0;32mreturn\u001b[0m \u001b[0msuper\u001b[0m\u001b[0;34m(\u001b[0m\u001b[0;34m)\u001b[0m\u001b[0;34m.\u001b[0m\u001b[0mrecv_into\u001b[0m\u001b[0;34m(\u001b[0m\u001b[0mbuffer\u001b[0m\u001b[0;34m,\u001b[0m \u001b[0mnbytes\u001b[0m\u001b[0;34m,\u001b[0m \u001b[0mflags\u001b[0m\u001b[0;34m)\u001b[0m\u001b[0;34m\u001b[0m\u001b[0;34m\u001b[0m\u001b[0m\n",
      "\u001b[0;32m/usr/local/Cellar/python@3.9/3.9.5/Frameworks/Python.framework/Versions/3.9/lib/python3.9/ssl.py\u001b[0m in \u001b[0;36mread\u001b[0;34m(self, len, buffer)\u001b[0m\n\u001b[1;32m   1097\u001b[0m         \u001b[0;32mtry\u001b[0m\u001b[0;34m:\u001b[0m\u001b[0;34m\u001b[0m\u001b[0;34m\u001b[0m\u001b[0m\n\u001b[1;32m   1098\u001b[0m             \u001b[0;32mif\u001b[0m \u001b[0mbuffer\u001b[0m \u001b[0;32mis\u001b[0m \u001b[0;32mnot\u001b[0m \u001b[0;32mNone\u001b[0m\u001b[0;34m:\u001b[0m\u001b[0;34m\u001b[0m\u001b[0;34m\u001b[0m\u001b[0m\n\u001b[0;32m-> 1099\u001b[0;31m                 \u001b[0;32mreturn\u001b[0m \u001b[0mself\u001b[0m\u001b[0;34m.\u001b[0m\u001b[0m_sslobj\u001b[0m\u001b[0;34m.\u001b[0m\u001b[0mread\u001b[0m\u001b[0;34m(\u001b[0m\u001b[0mlen\u001b[0m\u001b[0;34m,\u001b[0m \u001b[0mbuffer\u001b[0m\u001b[0;34m)\u001b[0m\u001b[0;34m\u001b[0m\u001b[0;34m\u001b[0m\u001b[0m\n\u001b[0m\u001b[1;32m   1100\u001b[0m             \u001b[0;32melse\u001b[0m\u001b[0;34m:\u001b[0m\u001b[0;34m\u001b[0m\u001b[0;34m\u001b[0m\u001b[0m\n\u001b[1;32m   1101\u001b[0m                 \u001b[0;32mreturn\u001b[0m \u001b[0mself\u001b[0m\u001b[0;34m.\u001b[0m\u001b[0m_sslobj\u001b[0m\u001b[0;34m.\u001b[0m\u001b[0mread\u001b[0m\u001b[0;34m(\u001b[0m\u001b[0mlen\u001b[0m\u001b[0;34m)\u001b[0m\u001b[0;34m\u001b[0m\u001b[0;34m\u001b[0m\u001b[0m\n",
      "\u001b[0;31mKeyboardInterrupt\u001b[0m: "
     ]
    }
   ],
   "source": [
    "import time\n",
    "\n",
    "t1 = time.time()\n",
    "\n",
    "with Socrata('data.cityofnewyork.us', 'vA3MfkSw5kKhpzNkitJkv5yFP') as client:\n",
    "    \n",
    "    #get a bunch of records (10M)\n",
    "    #HV0003 corresponds to Uber\n",
    "    high_volume_query_results = client.get('yrt9-58g8', limit = 1000000, where = 'hvfhs_license_num = \"HV0003\"')\n",
    "    trips = cleanup_func(pd.DataFrame.from_records(high_volume_query_results))\n",
    "    \n",
    "t2 = time.time()\n",
    "print('time elapsed for query: ',t2 - t1)"
   ]
  },
  {
   "cell_type": "code",
   "execution_count": null,
   "id": "6860030e-e7f0-4c10-9251-fff6e5a643af",
   "metadata": {},
   "outputs": [],
   "source": [
    "#each entry is how many times someone traveled from region to region (row -> column)\n",
    "travel_between_regions = pd.crosstab(index = trips['pulocationid'], columns = trips['dolocationid'])\n",
    "travel_between_regions = travel_between_regions.sort_index(axis=0).sort_index(axis=1)\n",
    "travel_between_regions"
   ]
  },
  {
   "cell_type": "code",
   "execution_count": 23,
   "id": "cb05a7be-6ad7-4d5c-80a7-306cbd100e43",
   "metadata": {},
   "outputs": [
    {
     "data": {
      "text/plain": [
       "(258, 260)"
      ]
     },
     "execution_count": 23,
     "metadata": {},
     "output_type": "execute_result"
    }
   ],
   "source": [
    "travel_between_regions.shape #missing a few regions in pickups and dropoffs with 1mill records"
   ]
  },
  {
   "cell_type": "code",
   "execution_count": 20,
   "id": "9aa925b4-5bdf-44bd-8c7d-0aa2ab57fb81",
   "metadata": {},
   "outputs": [
    {
     "data": {
      "text/plain": [
       "0.36933512224209897"
      ]
     },
     "execution_count": 20,
     "metadata": {},
     "output_type": "execute_result"
    }
   ],
   "source": [
    "#percentage of region -> region that is described by the data \n",
    "(travel_between_regions == 0).values.mean()"
   ]
  },
  {
   "cell_type": "code",
   "execution_count": 44,
   "id": "8e96a7bd-362b-4964-b473-7865d946f202",
   "metadata": {},
   "outputs": [
    {
     "name": "stdout",
     "output_type": "stream",
     "text": [
      "Zone, borough:  244    Yorkville West\n",
      "Name: zone, dtype: object 244    Manhattan\n",
      "Name: borough, dtype: object\n"
     ]
    },
    {
     "data": {
      "image/png": "[encoded data removed]",
      "text/plain": [
       "<Figure size 1440x720 with 1 Axes>"
      ]
     },
     "metadata": {
      "needs_background": "light"
     },
     "output_type": "display_data"
    }
   ],
   "source": [
    "from matplotlib import pyplot as plt\n",
    "\n",
    "#distribution of dropoffs for 1 pickup region \n",
    "region_id = 263\n",
    "sample_pu_region = taxi_zones[taxi_zones.location_id == region_id]\n",
    "pu_region_do_dist = travel_between_regions.loc[region_id]\n",
    "print('Zone, borough: ', sample_pu_region.zone, sample_pu_region.borough)\n",
    "\n",
    "plt.figure(figsize=(20,10))\n",
    "g  = sns.barplot(x = pu_region_do_dist.index, y = pu_region_do_dist)"
   ]
  },
  {
   "cell_type": "code",
   "execution_count": 43,
   "id": "defcb3d3-dd08-4cfe-9cad-1a2defdbd610",
   "metadata": {},
   "outputs": [
    {
     "data": {
      "text/plain": [
       "<AxesSubplot:>"
      ]
     },
     "execution_count": 43,
     "metadata": {},
     "output_type": "execute_result"
    },
    {
     "data": {
      "image/png": "[encoded data removed]",
      "text/plain": [
       "<Figure size 1440x720 with 1 Axes>"
      ]
     },
     "metadata": {
      "needs_background": "light"
     },
     "output_type": "display_data"
    }
   ],
   "source": [
    "import numpy as np\n",
    "\n",
    "#sample dropoffs for 1k pickups in this region:\n",
    "#experience a little bit of vanishing regions because of low probabilities\n",
    "#only a problem if those regions have vastly different travel times\n",
    "sample_dos = np.random.choice(pu_region_do_dist.index, \n",
    "                              size = 1000, \n",
    "                              p = pu_region_do_dist / pu_region_do_dist.sum())\n",
    "i, c = np.unique(sample_dos, return_counts = True)\n",
    "\n",
    "plt.figure(figsize=(20,10))\n",
    "sns.barplot(x = i, y = c)"
   ]
  },
  {
   "cell_type": "code",
   "execution_count": null,
   "id": "971abce4-6780-4cf5-abd2-1013b618793a",
   "metadata": {},
   "outputs": [],
   "source": []
  }
 ],
 "metadata": {
  "kernelspec": {
   "display_name": "Python 3 (ipykernel)",
   "language": "python",
   "name": "python3"
  },
  "language_info": {
   "codemirror_mode": {
    "name": "ipython",
    "version": 3
   },
   "file_extension": ".py",
   "mimetype": "text/x-python",
   "name": "python",
   "nbconvert_exporter": "python",
   "pygments_lexer": "ipython3",
   "version": "3.9.5"
  }
 },
 "nbformat": 4,
 "nbformat_minor": 5
}
