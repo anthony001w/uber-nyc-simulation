{
 "cells": [
  {
   "cell_type": "code",
   "execution_count": 159,
   "id": "99ae7ec2-70ed-461e-a033-95ce09549993",
   "metadata": {},
   "outputs": [],
   "source": [
    "import pandas as pd\n",
    "import numpy as np\n",
    "from joblib import load\n",
    "import seaborn as sns\n",
    "from matplotlib import pyplot as plt \n",
    "from tqdm.notebook import tqdm"
   ]
  },
  {
   "cell_type": "code",
   "execution_count": 201,
   "id": "c64fee6e",
   "metadata": {},
   "outputs": [
    {
     "name": "stdout",
     "output_type": "stream",
     "text": [
      "Minute Range: 1439\n"
     ]
    },
    {
     "data": {
      "text/html": [
       "<div>\n",
       "<style scoped>\n",
       "    .dataframe tbody tr th:only-of-type {\n",
       "        vertical-align: middle;\n",
       "    }\n",
       "\n",
       "    .dataframe tbody tr th {\n",
       "        vertical-align: top;\n",
       "    }\n",
       "\n",
       "    .dataframe thead th {\n",
       "        text-align: right;\n",
       "    }\n",
       "</style>\n",
       "<table border=\"1\" class=\"dataframe\">\n",
       "  <thead>\n",
       "    <tr style=\"text-align: right;\">\n",
       "      <th></th>\n",
       "      <th>Driver Count</th>\n",
       "      <th>Hour</th>\n",
       "    </tr>\n",
       "    <tr>\n",
       "      <th>Minute</th>\n",
       "      <th></th>\n",
       "      <th></th>\n",
       "    </tr>\n",
       "  </thead>\n",
       "  <tbody>\n",
       "    <tr>\n",
       "      <th>0</th>\n",
       "      <td>5161.489796</td>\n",
       "      <td>0.0</td>\n",
       "    </tr>\n",
       "    <tr>\n",
       "      <th>1</th>\n",
       "      <td>5060.322751</td>\n",
       "      <td>0.0</td>\n",
       "    </tr>\n",
       "    <tr>\n",
       "      <th>2</th>\n",
       "      <td>5076.383838</td>\n",
       "      <td>0.0</td>\n",
       "    </tr>\n",
       "  </tbody>\n",
       "</table>\n",
       "</div>"
      ],
      "text/plain": [
       "        Driver Count  Hour\n",
       "Minute                    \n",
       "0        5161.489796   0.0\n",
       "1        5060.322751   0.0\n",
       "2        5076.383838   0.0"
      ]
     },
     "execution_count": 201,
     "metadata": {},
     "output_type": "execute_result"
    }
   ],
   "source": [
    "#for the driver scheduling problem (aka how many drivers we need per )\n",
    "mm = load('minimum_active_uber_trips')\n",
    "print('Minute Range:', mm.index.max())\n",
    "mm.head(3)"
   ]
  },
  {
   "cell_type": "code",
   "execution_count": 192,
   "id": "acc9fa57",
   "metadata": {},
   "outputs": [],
   "source": [
    "#generate bundles of 1k drivers at once, with their interval lengths and centers\n",
    "#interval length from 2 - 10 hours (120 - 600 minutes)\n",
    "#centers from 0 - 1439\n",
    "\n",
    "def generate_bundle(size = 1000):\n",
    "    centers = np.random.randint(1440, size = size)\n",
    "\n",
    "    possible_lengths = np.arange(60, 301) * 2\n",
    "    length_pvalues = 1/(np.abs(480 - possible_lengths) + 15)\n",
    "    length_pvalues = length_pvalues / length_pvalues.sum()\n",
    "    lengths = np.random.choice(possible_lengths, size = size, p = length_pvalues)\n",
    "    return centers, lengths\n",
    "\n",
    "def update_availability_arr(availability, bundle, preferred_availability):\n",
    "    #add bundled centers and lengths to availability\n",
    "    #up to the preferred availability\n",
    "    mins = bundle[0] - bundle[1] / 2\n",
    "    mins = np.where(mins >= 0, mins, 1440 + mins)\n",
    "    maxs = bundle[0] + bundle[1] / 2\n",
    "    maxs = np.where(maxs < 1440, maxs, maxs - 1440)\n",
    "    bounds = np.c_[mins, maxs].astype(int)\n",
    "\n",
    "    #transform bounds to np array (1440)\n",
    "    bounded_arr = np.zeros((bounds.shape[0], 1440))\n",
    "    for i in tqdm(range(len(bounds)), position = 0, leave = True, desc = 'Transforming bounds to arrays'):\n",
    "        s, e = bounds[i][0], bounds[i][1]\n",
    "        if e < s:\n",
    "            bounded_arr[i, s:] = 1\n",
    "            bounded_arr[i, :e] = 1\n",
    "        else:\n",
    "            bounded_arr[i, s:e] = 1\n",
    "\n",
    "    #iteratively add the bounded_arr if it's okay to add\n",
    "    updated_avail = availability\n",
    "    accepted_drivers = []\n",
    "    for i in tqdm(range(len(bounded_arr)), position = 0, leave = True, desc = 'Adding Drivers'):\n",
    "        driver = bounded_arr[i]\n",
    "        restricted = (preferred_availability - updated_avail <= 0).astype(int)\n",
    "        #if overlap is less than like 1.5 hour it should be fine\n",
    "        if (driver + restricted == 2).sum() <= 60:\n",
    "            accepted_drivers.append(i)\n",
    "            updated_avail += driver\n",
    "                \n",
    "    #filter out the bounded_arr\n",
    "    diff = (updated_avail - preferred_availability)\n",
    "    return updated_avail, diff, bounded_arr[accepted_drivers]"
   ]
  },
  {
   "cell_type": "code",
   "execution_count": 194,
   "id": "de80dec2",
   "metadata": {},
   "outputs": [
    {
     "data": {
      "text/plain": [
       "<AxesSubplot:ylabel='Count'>"
      ]
     },
     "execution_count": 194,
     "metadata": {},
     "output_type": "execute_result"
    },
    {
     "data": {
      "image/png": "[encoded data removed]",
      "text/plain": [
       "<Figure size 1080x360 with 2 Axes>"
      ]
     },
     "metadata": {
      "needs_background": "light"
     },
     "output_type": "display_data"
    }
   ],
   "source": [
    "#check distribution of generated driver centers and intervals\n",
    "dcenters, dintervals = generate_bundle(10000)\n",
    "\n",
    "f, ax = plt.subplots(1, 2, figsize=(15,5))\n",
    "sns.histplot(data = dcenters, ax = ax[0])\n",
    "sns.histplot(data = dintervals, ax = ax[1])"
   ]
  },
  {
   "cell_type": "code",
   "execution_count": 195,
   "id": "50a1f265",
   "metadata": {},
   "outputs": [
    {
     "data": {
      "application/vnd.jupyter.widget-view+json": {
       "model_id": "6a0c91c8a148494198925b1e0978e6e7",
       "version_major": 2,
       "version_minor": 0
      },
      "text/plain": [
       "Transforming bounds to arrays:   0%|          | 0/1000000 [00:00<?, ?it/s]"
      ]
     },
     "metadata": {},
     "output_type": "display_data"
    },
    {
     "data": {
      "application/vnd.jupyter.widget-view+json": {
       "model_id": "5b772f60e2c946ec9bbfd5206eb72b79",
       "version_major": 2,
       "version_minor": 0
      },
      "text/plain": [
       "Adding Drivers:   0%|          | 0/1000000 [00:00<?, ?it/s]"
      ]
     },
     "metadata": {},
     "output_type": "display_data"
    }
   ],
   "source": [
    "#test generation\n",
    "availability = np.zeros(1440)\n",
    "preferred_availability = 2 * mm['Driver Count'].values\n",
    "updated_avail, diff, accepted_dschedules = update_availability_arr(availability, generate_bundle(1000000),preferred_availability)"
   ]
  },
  {
   "cell_type": "code",
   "execution_count": 199,
   "id": "794b3e2e",
   "metadata": {},
   "outputs": [
    {
     "name": "stdout",
     "output_type": "stream",
     "text": [
      "Total Drivers Accepted 44304\n"
     ]
    },
    {
     "data": {
      "image/png": "[encoded data removed]",
      "text/plain": [
       "<Figure size 1080x720 with 2 Axes>"
      ]
     },
     "metadata": {
      "needs_background": "light"
     },
     "output_type": "display_data"
    }
   ],
   "source": [
    "f, ax = plt.subplots(1, 2, figsize=(15,10))\n",
    "\n",
    "print('Total Drivers Accepted', len(accepted_dschedules))\n",
    "sns.lineplot(x = np.arange(1440), y = updated_avail, ax = ax[0])\n",
    "_ = sns.lineplot(x = np.arange(1440), y = diff, ax = ax[1])\n"
   ]
  },
  {
   "cell_type": "code",
   "execution_count": 8,
   "id": "59d13a3d-94c4-4026-aa6a-40e1154a43b3",
   "metadata": {},
   "outputs": [
    {
     "data": {
      "text/html": [
       "<div>\n",
       "<style scoped>\n",
       "    .dataframe tbody tr th:only-of-type {\n",
       "        vertical-align: middle;\n",
       "    }\n",
       "\n",
       "    .dataframe tbody tr th {\n",
       "        vertical-align: top;\n",
       "    }\n",
       "\n",
       "    .dataframe thead th {\n",
       "        text-align: right;\n",
       "    }\n",
       "</style>\n",
       "<table border=\"1\" class=\"dataframe\">\n",
       "  <thead>\n",
       "    <tr style=\"text-align: right;\">\n",
       "      <th></th>\n",
       "      <th></th>\n",
       "      <th>mean</th>\n",
       "      <th>std</th>\n",
       "      <th>min</th>\n",
       "      <th>max</th>\n",
       "      <th>count</th>\n",
       "    </tr>\n",
       "    <tr>\n",
       "      <th>pulocationid</th>\n",
       "      <th></th>\n",
       "      <th></th>\n",
       "      <th></th>\n",
       "      <th></th>\n",
       "      <th></th>\n",
       "      <th></th>\n",
       "    </tr>\n",
       "  </thead>\n",
       "  <tbody>\n",
       "    <tr>\n",
       "      <th rowspan=\"3\" valign=\"top\">1</th>\n",
       "      <th>1</th>\n",
       "      <td>19.037500</td>\n",
       "      <td>17.794296</td>\n",
       "      <td>2.716667</td>\n",
       "      <td>55.000000</td>\n",
       "      <td>8.0</td>\n",
       "    </tr>\n",
       "    <tr>\n",
       "      <th>2</th>\n",
       "      <td>0.000000</td>\n",
       "      <td>0.000000</td>\n",
       "      <td>0.000000</td>\n",
       "      <td>0.000000</td>\n",
       "      <td>0.0</td>\n",
       "    </tr>\n",
       "    <tr>\n",
       "      <th>3</th>\n",
       "      <td>54.540476</td>\n",
       "      <td>15.923260</td>\n",
       "      <td>34.650000</td>\n",
       "      <td>100.883333</td>\n",
       "      <td>14.0</td>\n",
       "    </tr>\n",
       "  </tbody>\n",
       "</table>\n",
       "</div>"
      ],
      "text/plain": [
       "                     mean        std        min         max  count\n",
       "pulocationid                                                      \n",
       "1            1  19.037500  17.794296   2.716667   55.000000    8.0\n",
       "             2   0.000000   0.000000   0.000000    0.000000    0.0\n",
       "             3  54.540476  15.923260  34.650000  100.883333   14.0"
      ]
     },
     "execution_count": 8,
     "metadata": {},
     "output_type": "execute_result"
    }
   ],
   "source": [
    "pickup_data = pd.read_pickle('arrival_and_dropoff_distributions')\n",
    "hourly_arrival_rate =  pickup_data.apply(lambda item: item[0])\n",
    "dropoff_frequency  = pickup_data.apply(lambda  item: item[1] / item[1].sum())\n",
    "trip_time_data = pd.read_parquet('trip_time_means')\n",
    "trip_time_data.head(3)"
   ]
  },
  {
   "cell_type": "code",
   "execution_count": 9,
   "id": "3217383b-00b7-402e-a310-f06fe45632c5",
   "metadata": {},
   "outputs": [],
   "source": [
    "from city_elements import *\n",
    "from city import *\n",
    "from event_list import *\n",
    "\n",
    "def generate_arrivals_per_zone(zone_hourly_arrivals = hourly_arrival_rate, \n",
    "                               zone_dropoff_frequencies = dropoff_frequency, \n",
    "                               zone_to_zone_times = trip_time_data, \n",
    "                               one_list = True,\n",
    "                               show_progress_bar = False):\n",
    "    \n",
    "    #check to make sure the indices match\n",
    "    assert (zone_hourly_arrivals.index == zone_dropoff_frequencies.index).all()\n",
    "    \n",
    "    zone_arrivals = []\n",
    "    #for each zone, generate a day's worth of arrivals\n",
    "    iterable = zone_hourly_arrivals.index if not show_progress_bar else tqdm(zone_hourly_arrivals.index, position = 0, leave = True, desc = 'Zone Arrivals Generated')\n",
    "    for i in iterable:\n",
    "        \n",
    "        hourly_rates = zone_hourly_arrivals.loc[i]\n",
    "        dropoff_dist = zone_dropoff_frequencies.loc[i]\n",
    "        zone_service_times = zone_to_zone_times.loc[i]\n",
    "                \n",
    "        max_rate = hourly_rates.max()\n",
    "        #rate = max_rate / 60 minutes (since max_rate is in minutes)\n",
    "        #input the inverse as the mean interarrival time (scale parameter for np.random.exponential)\n",
    "        temp_interarrivals = np.random.exponential(scale = 60/max_rate, size = 25000)\n",
    "        while temp_interarrivals.cumsum().max() <= 24 * 60:\n",
    "            temp_interarrivals = np.append(temp_interarrivals, np.random.exponential(scale = 60/max_rate, size = 25000))\n",
    "        \n",
    "        #this cuts off interarrivals at 1 day\n",
    "        interarrivals = temp_interarrivals[temp_interarrivals.cumsum() <= 24*60]\n",
    "        arrivals = interarrivals.cumsum()\n",
    "                \n",
    "        #thinning process\n",
    "        #uses constant hourly rate (like a 24 part step function) to generate the thinning probabilities\n",
    "        keep_probability = (hourly_rates[(arrivals // 60).astype(int)] / max_rate).values\n",
    "        unif = np.random.uniform(size = arrivals.shape[0])\n",
    "        kept_arrivals = arrivals[unif <= keep_probability]\n",
    "                \n",
    "        #for each arrival generate from the dropoff distribution\n",
    "        dropoffs = np.random.choice(dropoff_dist.index, size = kept_arrivals.shape[0], p = dropoff_dist)\n",
    "                              \n",
    "        #generate data in the form of (time, dropoff location id, pickup location id)\n",
    "        arrival_data = np.vstack([kept_arrivals, dropoffs, i*np.ones(kept_arrivals.shape[0])]).T\n",
    "        \n",
    "        #format into dataframe\n",
    "        arrival_df = pd.DataFrame(data = arrival_data, columns = ['time','dolocationid','pulocationid'])\n",
    "        \n",
    "        #each arrival, generate a service time from the service time distributions\n",
    "        #this is SLOW\n",
    "        if len(arrival_df) > 0:\n",
    "            services = [np.clip(np.random.normal(loc = info[0], scale = info[1]), info[2], info[3]) \n",
    "                        for info in zone_service_times.loc[arrival_df.dolocationid].values]\n",
    "\n",
    "            arrival_df['service'] = services\n",
    "\n",
    "            zone_arrivals.append(arrival_df)\n",
    "    \n",
    "    #if one list, then combine everything into one big arrival matrix\n",
    "    #otherwise, just return the list of arrival dataframes\n",
    "    if one_list:\n",
    "        zone_arrivals = pd.concat(zone_arrivals).sort_values('time').reset_index(drop=True)\n",
    "    \n",
    "    return zone_arrivals\n",
    "\n",
    "def simulate_with_individual_drivers(arrivals,\n",
    "                                     driver_distribution = 'proportional',\n",
    "                                     driver_count = 10000,\n",
    "                                     odmatrix = trip_time_data,\n",
    "                                     pickup_data = hourly_arrival_rate):\n",
    "    #convert arrivals into passengers, and then into events\n",
    "    passengers = []\n",
    "    drivers = []\n",
    "    \n",
    "    arrival_events = deque()\n",
    "    for a in tqdm(arrivals.values, position = 0, leave = True, desc = 'Passenger Objects Created'):\n",
    "        p = Passenger(a[0], a[1], a[2], a[3])\n",
    "        passengers.append(p)\n",
    "        arrival_events.append(Arrival(p))\n",
    "    \n",
    "    event_list = EventList(arrival_events)\n",
    "    \n",
    "    #setup drivers and zones based on driver_distribution parameter\n",
    "    #everything is under the city class\n",
    "    if driver_distribution == 'proportional':\n",
    "        \n",
    "        zones = []\n",
    "        \n",
    "        pbar = tqdm(total = driver_count, position = 0, leave = True, desc = 'Driver Objects Created')\n",
    "        #number of drivers per zone\n",
    "        #use the pickup data to do this\n",
    "        arrivals_per_zone = pickup_data.sum(axis=1)\n",
    "        dcounts = driver_count * (arrivals_per_zone / arrivals_per_zone.sum())\n",
    "        dcounts = np.floor(dcounts)\n",
    "        \n",
    "        for i in range(1,264):\n",
    "            if i in dcounts.index:\n",
    "                temp_set = set()\n",
    "                for j in range(int(dcounts.loc[i])):\n",
    "                    d = Driver(i)\n",
    "                    temp_set.add(d)\n",
    "                    drivers.append(d)\n",
    "                    pbar.update(1)\n",
    "                zones.append(Zone(zone_id = i, driver_set = temp_set))\n",
    "            else:\n",
    "                zones.append(Zone(zone_id = i, driver_set = set()))\n",
    "        \n",
    "        for i in range(driver_count - len(drivers)):\n",
    "            z = np.random.choice(np.arange(1,264))\n",
    "            d = Driver(z)\n",
    "            drivers.append(d)\n",
    "            \n",
    "            for zone in zones:\n",
    "                if zone.zone == z:\n",
    "                    zone.add_driver(d)\n",
    "                    pbar.update(1)\n",
    "                    break\n",
    "                    \n",
    "        city = City('NYC', zones, drivers, odmatrix)\n",
    "            \n",
    "    #iterate through the event list until no events left\n",
    "    pbar = tqdm(total = arrivals.shape[0], position = 0, leave = True, desc = 'Passengers Processed')\n",
    "    while not event_list.is_finished():\n",
    "        \n",
    "        event = event_list.iterate_next_event()\n",
    "\n",
    "        result = city.process_event(event)\n",
    "        if event.type == 'Trip':\n",
    "            pbar.update(1)\n",
    "\n",
    "        if result is not None:\n",
    "            event_list.insert_event(result)    \n",
    "                \n",
    "    return passengers, drivers, city, event_list\n",
    "\n",
    "def simulate_n_days(n,\n",
    "                    driver_distribution = 'proportional',\n",
    "                    driver_count = 15000):\n",
    "    #just keep 1 driver history bc it takes up too much memory\n",
    "    #keep all the waiting time information in dataframes\n",
    "    passenger_details = []\n",
    "    driver_history = None\n",
    "    city_history = None\n",
    "    \n",
    "    for i in range(n):\n",
    "        print(f'--- Day {i} ---')\n",
    "        arrivals = generate_arrivals_per_zone(show_progress_bar=True)\n",
    "        p, d, c, e = simulate_with_individual_drivers(arrivals, \n",
    "                                                      driver_distribution = driver_distribution, \n",
    "                                                      driver_count = driver_count)\n",
    "        waiting_times = np.array([(pe.time, pe.start, pe.end, pe.service, pe.waiting_time()) for pe in p])\n",
    "        waiting_times = pd.DataFrame(waiting_times, columns = ['arrival_time','starting zone', 'ending zone','service_time','waiting_time'])\n",
    "        waiting_times['arrival_hour'] = waiting_times.arrival_time//60\n",
    "        waiting_times['replication'] = i\n",
    "        \n",
    "        passenger_details.append(waiting_times)\n",
    "        print(f'Average Waiting Time: {waiting_times.waiting_time.mean()}')\n",
    "        print(f'Median Waiting Time: {np.median(waiting_times.waiting_time)}')\n",
    "        print(f'Simulation System Speed: {e.formatted_stats()} \\nMore stats: {c.formatted_stats()} \\n --- End of Day {i} ---\\n')\n",
    "        \n",
    "        if i == n - 1:\n",
    "            driver_history = d\n",
    "            city_history = c\n",
    "    \n",
    "    return pd.concat(passenger_details), driver_history, city_history"
   ]
  },
  {
   "cell_type": "code",
   "execution_count": null,
   "id": "4e3a9964",
   "metadata": {},
   "outputs": [],
   "source": []
  }
 ],
 "metadata": {
  "kernelspec": {
   "display_name": "Python 3 (ipykernel)",
   "language": "python",
   "name": "python3"
  },
  "language_info": {
   "codemirror_mode": {
    "name": "ipython",
    "version": 3
   },
   "file_extension": ".py",
   "mimetype": "text/x-python",
   "name": "python",
   "nbconvert_exporter": "python",
   "pygments_lexer": "ipython3",
   "version": "3.9.5"
  }
 },
 "nbformat": 4,
 "nbformat_minor": 5
}
