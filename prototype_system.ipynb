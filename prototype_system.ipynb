{
 "cells": [
  {
   "cell_type": "code",
   "execution_count": 1,
   "id": "99ae7ec2-70ed-461e-a033-95ce09549993",
   "metadata": {},
   "outputs": [],
   "source": [
    "import pandas as pd\n",
    "import numpy as np\n",
    "from joblib import load\n",
    "from tqdm.notebook import tqdm"
   ]
  },
  {
   "cell_type": "code",
   "execution_count": 2,
   "id": "c64fee6e",
   "metadata": {},
   "outputs": [
    {
     "name": "stdout",
     "output_type": "stream",
     "text": [
      "Minute Range: 1439\n"
     ]
    },
    {
     "data": {
      "text/html": [
       "<div>\n",
       "<style scoped>\n",
       "    .dataframe tbody tr th:only-of-type {\n",
       "        vertical-align: middle;\n",
       "    }\n",
       "\n",
       "    .dataframe tbody tr th {\n",
       "        vertical-align: top;\n",
       "    }\n",
       "\n",
       "    .dataframe thead th {\n",
       "        text-align: right;\n",
       "    }\n",
       "</style>\n",
       "<table border=\"1\" class=\"dataframe\">\n",
       "  <thead>\n",
       "    <tr style=\"text-align: right;\">\n",
       "      <th></th>\n",
       "      <th>Driver Count</th>\n",
       "      <th>Hour</th>\n",
       "    </tr>\n",
       "    <tr>\n",
       "      <th>Minute</th>\n",
       "      <th></th>\n",
       "      <th></th>\n",
       "    </tr>\n",
       "  </thead>\n",
       "  <tbody>\n",
       "    <tr>\n",
       "      <th>0</th>\n",
       "      <td>5161.489796</td>\n",
       "      <td>0.0</td>\n",
       "    </tr>\n",
       "    <tr>\n",
       "      <th>1</th>\n",
       "      <td>5060.322751</td>\n",
       "      <td>0.0</td>\n",
       "    </tr>\n",
       "    <tr>\n",
       "      <th>2</th>\n",
       "      <td>5076.383838</td>\n",
       "      <td>0.0</td>\n",
       "    </tr>\n",
       "  </tbody>\n",
       "</table>\n",
       "</div>"
      ],
      "text/plain": [
       "        Driver Count  Hour\n",
       "Minute                    \n",
       "0        5161.489796   0.0\n",
       "1        5060.322751   0.0\n",
       "2        5076.383838   0.0"
      ]
     },
     "execution_count": 2,
     "metadata": {},
     "output_type": "execute_result"
    }
   ],
   "source": [
    "#for the driver scheduling problem (aka how many drivers we need per )\n",
    "mm = load('minimum_active_uber_trips')\n",
    "print('Minute Range:', mm.index.max())\n",
    "mm.head(3)"
   ]
  },
  {
   "cell_type": "code",
   "execution_count": 3,
   "id": "acc9fa57",
   "metadata": {},
   "outputs": [],
   "source": [
    "#generate bundles of 1k drivers at once, with their interval lengths and centers\n",
    "#interval length from 2 - 10 hours (120 - 600 minutes)\n",
    "#centers from 0 - 1439\n",
    "\n",
    "def generate_bundle(size = 1000):\n",
    "    centers = np.random.randint(1440, size = size)\n",
    "\n",
    "    #weights 8 hour intervals higher than 2 hours\n",
    "    possible_lengths = np.arange(60, 301) * 2\n",
    "    length_pvalues = 1/(np.abs(480 - possible_lengths) + 15)\n",
    "    length_pvalues = length_pvalues / length_pvalues.sum()\n",
    "    lengths = np.random.choice(possible_lengths, size = size, p = length_pvalues)\n",
    "    lengths.sort()\n",
    "    return centers, lengths[::-1]\n",
    "\n",
    "def update_availability_arr(availability, bundle, preferred_availability, acceptable_overlap = 60, show_progress = False):\n",
    "    #add bundled centers and lengths to availability\n",
    "    #up to the preferred availability\n",
    "    mins = bundle[0] - bundle[1] / 2\n",
    "    mins = np.where(mins >= 0, mins, 1440 + mins)\n",
    "    maxs = bundle[0] + bundle[1] / 2\n",
    "    maxs = np.where(maxs < 1440, maxs, maxs - 1440)\n",
    "    bounds = np.c_[mins, maxs].astype(int)\n",
    "\n",
    "    #transform bounds to np array (1440)\n",
    "    #and iteratively add if it's okay to add\n",
    "    updated_avail = availability\n",
    "    accepted_drivers = []\n",
    "    if show_progress:\n",
    "        iterable_shown = tqdm(range(len(bounds)), position = 0, leave = True, desc = 'Transforming bounds to arrays')\n",
    "    else:\n",
    "        iterable_shown = range(len(bounds))\n",
    "    for i in iterable_shown:\n",
    "        new_arr = np.zeros(1440)\n",
    "        s, e = bounds[i][0], bounds[i][1]\n",
    "        if e < s:\n",
    "            new_arr[s:] = 1\n",
    "            new_arr[:e] = 1\n",
    "        else:\n",
    "            new_arr[s:e] = 1\n",
    "        restricted = (preferred_availability - updated_avail <= 0).astype(int)\n",
    "        if (new_arr + restricted == 2).sum() <= acceptable_overlap:\n",
    "            accepted_drivers.append(i)\n",
    "            updated_avail += new_arr\n",
    "                        \n",
    "    #filter out the bounded_arr\n",
    "    diff = (updated_avail - preferred_availability)\n",
    "    return updated_avail, diff, bounds[accepted_drivers]\n",
    "\n",
    "def generate_driver_schedules(preferred_availability, \n",
    "    tolerated_under_preferred = 3000, \n",
    "    acceptable_overlap = 60, \n",
    "    chunk_size = 100000,\n",
    "    show_progress = False):\n",
    "    avail = np.zeros(1440)\n",
    "    avail, diff, schedules = update_availability_arr(avail, generate_bundle(chunk_size), preferred_availability, acceptable_overlap, show_progress)\n",
    "    print(f'Maximu Difference between # Drivers Available and Preferred Amount: {diff.min().round()}', end = ' ')\n",
    "    while diff.min() <= -tolerated_under_preferred:\n",
    "        avail, diff, s2 = update_availability_arr(avail, generate_bundle(chunk_size), preferred_availability, acceptable_overlap, show_progress)\n",
    "        print(diff.min().round(), end = ' ')\n",
    "        schedules = np.append(schedules, s2, axis = 0)\n",
    "    print()\n",
    "    return schedules\n"
   ]
  },
  {
   "cell_type": "code",
   "execution_count": 4,
   "id": "59d13a3d-94c4-4026-aa6a-40e1154a43b3",
   "metadata": {},
   "outputs": [
    {
     "data": {
      "text/html": [
       "<div>\n",
       "<style scoped>\n",
       "    .dataframe tbody tr th:only-of-type {\n",
       "        vertical-align: middle;\n",
       "    }\n",
       "\n",
       "    .dataframe tbody tr th {\n",
       "        vertical-align: top;\n",
       "    }\n",
       "\n",
       "    .dataframe thead th {\n",
       "        text-align: right;\n",
       "    }\n",
       "</style>\n",
       "<table border=\"1\" class=\"dataframe\">\n",
       "  <thead>\n",
       "    <tr style=\"text-align: right;\">\n",
       "      <th></th>\n",
       "      <th></th>\n",
       "      <th>mean</th>\n",
       "      <th>std</th>\n",
       "      <th>min</th>\n",
       "      <th>max</th>\n",
       "      <th>count</th>\n",
       "    </tr>\n",
       "    <tr>\n",
       "      <th>pulocationid</th>\n",
       "      <th></th>\n",
       "      <th></th>\n",
       "      <th></th>\n",
       "      <th></th>\n",
       "      <th></th>\n",
       "      <th></th>\n",
       "    </tr>\n",
       "  </thead>\n",
       "  <tbody>\n",
       "    <tr>\n",
       "      <th rowspan=\"3\" valign=\"top\">1</th>\n",
       "      <th>1</th>\n",
       "      <td>19.037500</td>\n",
       "      <td>17.794296</td>\n",
       "      <td>2.716667</td>\n",
       "      <td>55.000000</td>\n",
       "      <td>8.0</td>\n",
       "    </tr>\n",
       "    <tr>\n",
       "      <th>2</th>\n",
       "      <td>0.000000</td>\n",
       "      <td>0.000000</td>\n",
       "      <td>0.000000</td>\n",
       "      <td>0.000000</td>\n",
       "      <td>0.0</td>\n",
       "    </tr>\n",
       "    <tr>\n",
       "      <th>3</th>\n",
       "      <td>54.540476</td>\n",
       "      <td>15.923260</td>\n",
       "      <td>34.650000</td>\n",
       "      <td>100.883333</td>\n",
       "      <td>14.0</td>\n",
       "    </tr>\n",
       "  </tbody>\n",
       "</table>\n",
       "</div>"
      ],
      "text/plain": [
       "                     mean        std        min         max  count\n",
       "pulocationid                                                      \n",
       "1            1  19.037500  17.794296   2.716667   55.000000    8.0\n",
       "             2   0.000000   0.000000   0.000000    0.000000    0.0\n",
       "             3  54.540476  15.923260  34.650000  100.883333   14.0"
      ]
     },
     "execution_count": 4,
     "metadata": {},
     "output_type": "execute_result"
    }
   ],
   "source": [
    "pickup_data = pd.read_pickle('arrival_and_dropoff_distributions')\n",
    "hourly_arrival_rate =  pickup_data.apply(lambda item: item[0])\n",
    "dropoff_frequency  = pickup_data.apply(lambda  item: item[1] / item[1].sum())\n",
    "trip_time_data = pd.read_parquet('trip_time_means')\n",
    "trip_time_data.head(3)"
   ]
  },
  {
   "cell_type": "code",
   "execution_count": 34,
   "id": "3217383b-00b7-402e-a310-f06fe45632c5",
   "metadata": {},
   "outputs": [],
   "source": [
    "from city_elements import *\n",
    "from city import *\n",
    "from event_list import *\n",
    "\n",
    "def generate_arrivals_per_zone(zone_hourly_arrivals = hourly_arrival_rate, \n",
    "                               zone_dropoff_frequencies = dropoff_frequency, \n",
    "                               zone_to_zone_times = trip_time_data, \n",
    "                               one_list = True,\n",
    "                               show_progress_bar = False):\n",
    "    \n",
    "    #check to make sure the indices match\n",
    "    assert (zone_hourly_arrivals.index == zone_dropoff_frequencies.index).all()\n",
    "    \n",
    "    zone_arrivals = []\n",
    "    #for each zone, generate a day's worth of arrivals\n",
    "    iterable = zone_hourly_arrivals.index if not show_progress_bar else tqdm(zone_hourly_arrivals.index, position = 0, leave = True, desc = 'Zone Arrivals Generated')\n",
    "    for i in iterable:\n",
    "        \n",
    "        hourly_rates = zone_hourly_arrivals.loc[i]\n",
    "        dropoff_dist = zone_dropoff_frequencies.loc[i]\n",
    "        zone_service_times = zone_to_zone_times.loc[i]\n",
    "                \n",
    "        max_rate = hourly_rates.max()\n",
    "        #rate = max_rate / 60 minutes (since max_rate is in minutes)\n",
    "        #input the inverse as the mean interarrival time (scale parameter for np.random.exponential)\n",
    "        temp_interarrivals = np.random.exponential(scale = 60/max_rate, size = 25000)\n",
    "        while temp_interarrivals.cumsum().max() <= 24 * 60:\n",
    "            temp_interarrivals = np.append(temp_interarrivals, np.random.exponential(scale = 60/max_rate, size = 25000))\n",
    "        \n",
    "        #this cuts off interarrivals at 1 day\n",
    "        interarrivals = temp_interarrivals[temp_interarrivals.cumsum() <= 24*60]\n",
    "        arrivals = interarrivals.cumsum()\n",
    "                \n",
    "        #thinning process\n",
    "        #uses constant hourly rate (like a 24 part step function) to generate the thinning probabilities\n",
    "        keep_probability = (hourly_rates[(arrivals // 60).astype(int)] / max_rate).values\n",
    "        unif = np.random.uniform(size = arrivals.shape[0])\n",
    "        kept_arrivals = arrivals[unif <= keep_probability]\n",
    "                \n",
    "        #for each arrival generate from the dropoff distribution\n",
    "        dropoffs = np.random.choice(dropoff_dist.index, size = kept_arrivals.shape[0], p = dropoff_dist)\n",
    "                              \n",
    "        #generate data in the form of (time, dropoff location id, pickup location id)\n",
    "        arrival_data = np.vstack([kept_arrivals, dropoffs, i*np.ones(kept_arrivals.shape[0])]).T\n",
    "        \n",
    "        #format into dataframe\n",
    "        arrival_df = pd.DataFrame(data = arrival_data, columns = ['time','dolocationid','pulocationid'])\n",
    "        \n",
    "        #each arrival, generate a service time from the service time distributions\n",
    "        #this is SLOW\n",
    "        if len(arrival_df) > 0:\n",
    "            services = [max(np.random.normal(loc = info[0], scale = info[1]), 0)\n",
    "                        for info in zone_service_times.loc[arrival_df.dolocationid].values]\n",
    "\n",
    "            arrival_df['service'] = services\n",
    "\n",
    "            zone_arrivals.append(arrival_df)\n",
    "    \n",
    "    #if one list, then combine everything into one big arrival matrix\n",
    "    #otherwise, just return the list of arrival dataframes\n",
    "    if one_list:\n",
    "        zone_arrivals = pd.concat(zone_arrivals).sort_values('time').reset_index(drop=True)\n",
    "    \n",
    "    return zone_arrivals\n",
    "\n",
    "def simulate_with_individual_drivers(arrivals,\n",
    "                                     driver_distribution = 'proportional',\n",
    "                                     preferred_driver_availability = 3*mm['Driver Count'].values,\n",
    "                                     odmatrix = trip_time_data,\n",
    "                                     pickup_data = hourly_arrival_rate):\n",
    "    #convert arrivals into passengers, and then into events\n",
    "    passengers = []\n",
    "    drivers = []\n",
    "    \n",
    "    initial_events = deque()\n",
    "    for a in tqdm(arrivals.values, position = 0, leave = True, desc = 'Passenger Objects Created'):\n",
    "        p = Passenger(a[0], a[1], a[2], a[3])\n",
    "        passengers.append(p)\n",
    "        initial_events.append(Arrival(p))\n",
    "    \n",
    "    #setup drivers and zones based on driver_distribution parameter\n",
    "    #setup driver schedules and insert driver arrivals and departures into the initial event list \n",
    "    #everything is under the city class\n",
    "    if driver_distribution == 'proportional':\n",
    "\n",
    "        #generate driver schedules\n",
    "        dschedules = generate_driver_schedules(preferred_driver_availability)\n",
    "        driver_count = len(dschedules)\n",
    "        \n",
    "        pbar = tqdm(total = driver_count, position = 0, leave = True, desc = 'Driver Objects Created')\n",
    "        #number of drivers per zone\n",
    "        #use the pickup data to do this\n",
    "        arrivals_per_zone = pickup_data.sum(axis=1)\n",
    "        dcounts = np.floor(driver_count * (arrivals_per_zone / arrivals_per_zone.sum()))\n",
    "        \n",
    "        driver_index = 0\n",
    "        for i in dcounts.index:\n",
    "            for j in range(int(dcounts.loc[i])):\n",
    "                d = Driver(i, dschedules[driver_index][0], dschedules[driver_index][1])\n",
    "                #also want to add the driver departure and arrival to the initial event list\n",
    "                initial_events.append(DriverArrival(d))\n",
    "                initial_events.append(DriverDeparture(d))\n",
    "                drivers.append(d)\n",
    "                pbar.update(1)\n",
    "                driver_index += 1\n",
    "        \n",
    "        for i in range(driver_count - len(drivers)):\n",
    "            z = np.random.choice(np.arange(1,264))\n",
    "            d = Driver(z, dschedules[driver_index][0], dschedules[driver_index][1])\n",
    "            initial_events.append(DriverArrival(d))\n",
    "            initial_events.append(DriverDeparture(d))\n",
    "            drivers.append(d)\n",
    "            pbar.update(1)\n",
    "            driver_index += 1\n",
    "                    \n",
    "        city = City('NYC', np.arange(1,264), drivers, odmatrix)\n",
    "\n",
    "    event_list = EventList(initial_events)\n",
    "            \n",
    "    #iterate through the event list until no events left\n",
    "    pbar = tqdm(total = arrivals.shape[0], position = 0, leave = True, desc = 'Passengers Processed')\n",
    "    while not event_list.is_finished():\n",
    "        \n",
    "        event = event_list.iterate_next_event()\n",
    "\n",
    "        result = city.process_event(event)\n",
    "        if event.type == 'Trip':\n",
    "            pbar.update(1)\n",
    "\n",
    "        if result is not None:\n",
    "            event_list.insert_event(result)    \n",
    "                \n",
    "    return passengers, drivers, city, event_list"
   ]
  },
  {
   "cell_type": "code",
   "execution_count": 35,
   "id": "4e3a9964",
   "metadata": {},
   "outputs": [
    {
     "data": {
      "application/vnd.jupyter.widget-view+json": {
       "model_id": "3070f2f6bdea4be0a7cda4627312ee36",
       "version_major": 2,
       "version_minor": 0
      },
      "text/plain": [
       "Zone Arrivals Generated:   0%|          | 0/259 [00:00<?, ?it/s]"
      ]
     },
     "metadata": {},
     "output_type": "display_data"
    }
   ],
   "source": [
    "arrivals = generate_arrivals_per_zone(show_progress_bar=True)"
   ]
  },
  {
   "cell_type": "code",
   "execution_count": 36,
   "id": "58528350",
   "metadata": {},
   "outputs": [
    {
     "data": {
      "application/vnd.jupyter.widget-view+json": {
       "model_id": "d0b1389d839d4322aa3eb74dd9c66124",
       "version_major": 2,
       "version_minor": 0
      },
      "text/plain": [
       "Passenger Objects Created:   0%|          | 0/455303 [00:00<?, ?it/s]"
      ]
     },
     "metadata": {},
     "output_type": "display_data"
    },
    {
     "name": "stdout",
     "output_type": "stream",
     "text": [
      "Maximu Difference between # Drivers Available and Preferred Amount: -10137.0 -8785.0 -7939.0 -7299.0 -6760.0 -6294.0 -5837.0 -5416.0 -4996.0 -4567.0 -4205.0 -3931.0 -3694.0 -3514.0 -3353.0 -3243.0 -3112.0 -3014.0 -2915.0 \n"
     ]
    },
    {
     "data": {
      "application/vnd.jupyter.widget-view+json": {
       "model_id": "53bf6b40ad344e23b6ad9f7ba258ab79",
       "version_major": 2,
       "version_minor": 0
      },
      "text/plain": [
       "Driver Objects Created:   0%|          | 0/58398 [00:00<?, ?it/s]"
      ]
     },
     "metadata": {},
     "output_type": "display_data"
    },
    {
     "data": {
      "application/vnd.jupyter.widget-view+json": {
       "model_id": "dbc6e7635e284db68c6377651f7083bb",
       "version_major": 2,
       "version_minor": 0
      },
      "text/plain": [
       "Passengers Processed:   0%|          | 0/455303 [00:00<?, ?it/s]"
      ]
     },
     "metadata": {},
     "output_type": "display_data"
    }
   ],
   "source": [
    "p, d, c, e = simulate_with_individual_drivers(arrivals)"
   ]
  },
  {
   "cell_type": "code",
   "execution_count": 37,
   "id": "174d6140",
   "metadata": {},
   "outputs": [
    {
     "name": "stdout",
     "output_type": "stream",
     "text": [
      "\n",
      "\t-- generating_movement_times --\n",
      "\tTotal Time Spent: 7.988728761672974\n",
      "\t# of Occurences: 455303\n",
      "\t-- choose_driver --\n",
      "\tTotal Time Spent: 0\n",
      "\t# of Occurences: 0\n",
      "\n",
      "\t-- insertion speed --\n",
      "\tTotal Time Spent: 12.091094255447388\n",
      "\t# of Occurences: 932036\n",
      "\t-- pop speed --\n",
      "\tTotal Time Spent: 0.3606855869293213\n",
      "\t# of Occurences: 1504135\n",
      "\t-- search speed --\n",
      "\tTotal Time Spent: 67.4203577041626\n",
      "\t# of Occurences: 932036\n"
     ]
    }
   ],
   "source": [
    "print(c.formatted_stats())\n",
    "print(e.formatted_stats())"
   ]
  },
  {
   "cell_type": "code",
   "execution_count": 38,
   "id": "34f54b95",
   "metadata": {},
   "outputs": [],
   "source": [
    "waiting_time = pd.DataFrame(np.array([(pe.time, pe.departure_time,pe.waiting_time()) for pe in p]).round(2), columns = ['time','departure','wait'])"
   ]
  },
  {
   "cell_type": "code",
   "execution_count": 39,
   "id": "fe98c82b",
   "metadata": {},
   "outputs": [
    {
     "data": {
      "text/plain": [
       "<AxesSubplot:xlabel='hour', ylabel='wait'>"
      ]
     },
     "execution_count": 39,
     "metadata": {},
     "output_type": "execute_result"
    },
    {
     "data": {
      "image/png": "[encoded data removed]",
      "text/plain": [
       "<Figure size 432x288 with 1 Axes>"
      ]
     },
     "metadata": {
      "needs_background": "light"
     },
     "output_type": "display_data"
    }
   ],
   "source": [
    "import seaborn as sns\n",
    "\n",
    "waiting_time['hour'] = waiting_time.time // 60\n",
    "hourly_wait_time = waiting_time.groupby('hour').wait.mean()\n",
    "sns.scatterplot(data = waiting_time, x = 'hour', y = 'wait')\n",
    "sns.lineplot(x = hourly_wait_time.index, y = hourly_wait_time)"
   ]
  },
  {
   "cell_type": "code",
   "execution_count": null,
   "id": "baf4b459",
   "metadata": {},
   "outputs": [],
   "source": []
  }
 ],
 "metadata": {
  "kernelspec": {
   "display_name": "Python 3 (ipykernel)",
   "language": "python",
   "name": "python3"
  },
  "language_info": {
   "codemirror_mode": {
    "name": "ipython",
    "version": 3
   },
   "file_extension": ".py",
   "mimetype": "text/x-python",
   "name": "python",
   "nbconvert_exporter": "python",
   "pygments_lexer": "ipython3",
   "version": "3.9.5"
  }
 },
 "nbformat": 4,
 "nbformat_minor": 5
}
