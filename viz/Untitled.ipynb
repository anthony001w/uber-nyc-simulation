{
 "cells": [
  {
   "cell_type": "code",
   "execution_count": 27,
   "id": "51f464ca-d2d6-4f3e-9c21-ddcec3e8aae3",
   "metadata": {},
   "outputs": [],
   "source": [
    "from joblib import dump, load\n",
    "import pandas as pd\n",
    "import numpy as np\n",
    "from class_def import *\n",
    "\n",
    "driver_history = load('driver_history')"
   ]
  },
  {
   "cell_type": "code",
   "execution_count": 34,
   "id": "471fc87b-5964-4f7a-8e66-58dc095feda4",
   "metadata": {},
   "outputs": [
    {
     "data": {
      "text/plain": [
       "[[0, 3, None],\n",
       " [93.05980895204506, 183, <class_def.Passenger at 0x16247ddf0>],\n",
       " [100.41459750492768, 183, None],\n",
       " [188.43322756865277, 208, <class_def.Passenger at 0x16247dc40>],\n",
       " [199.24849784984474, 208, None]]"
      ]
     },
     "execution_count": 34,
     "metadata": {},
     "output_type": "execute_result"
    }
   ],
   "source": [
    "#need to convert the list of movements (time, location, passenger)\n",
    "#to animations (point a to point b movements)\n",
    "#each animation needs a movement vector, and also a number of frames stopping point\n",
    "#as well as a starting position and ending position\n",
    "driver_history[2].movement_history[:5]"
   ]
  },
  {
   "cell_type": "code",
   "execution_count": 35,
   "id": "6652f6f1-9e7b-413f-9ff7-a5d8910399ca",
   "metadata": {},
   "outputs": [
    {
     "data": {
      "text/plain": [
       "100.41459750492768"
      ]
     },
     "execution_count": 35,
     "metadata": {},
     "output_type": "execute_result"
    }
   ],
   "source": [
    "driver_history[2].movement_history[1][2].departure_time"
   ]
  },
  {
   "cell_type": "code",
   "execution_count": 38,
   "id": "c70a0641-697d-470a-b488-41666c44538d",
   "metadata": {},
   "outputs": [
    {
     "data": {
      "text/plain": [
       "[[0, 3, None],\n",
       " [64.49351385886686, 18, <class_def.Passenger at 0x162449400>],\n",
       " [79.64437571954895, 18, None],\n",
       " [145.3654598633153, 119, <class_def.Passenger at 0x162449250>],\n",
       " [159.1977599933724, 119, None],\n",
       " [159.23257890677544, 116, <class_def.Passenger at 0x1624490a0>],\n",
       " [160.58828175399194, 116, None],\n",
       " [477.9187256488144, 74, <class_def.Passenger at 0x162444f10>],\n",
       " [479.8592605819846, 74, None],\n",
       " [480.21601503137686, 74, <class_def.Passenger at 0x162444d60>],\n",
       " [480.3414053074781, 74, None],\n",
       " [480.4458624169016, 147, <class_def.Passenger at 0x162444bb0>],\n",
       " [480.5053268275147, 147, None],\n",
       " [480.6694868870957, 69, <class_def.Passenger at 0x162444a60>],\n",
       " [480.765820038673, 69, None],\n",
       " [481.7848582726896, 138, <class_def.Passenger at 0x1624448e0>],\n",
       " [508.7200068514353, 138, None],\n",
       " [508.7200068514353, 66, <class_def.Passenger at 0x1624447c0>],\n",
       " [538.3116433242352, 66, None],\n",
       " [538.3116433242352, 138, None],\n",
       " [541.154781233991, 138, None],\n",
       " [541.154781233991, 66, <class_def.Passenger at 0x1624445b0>],\n",
       " [562.5455301973242, 66, None],\n",
       " [564.5736529188889, 49, <class_def.Passenger at 0x1624443d0>],\n",
       " [572.5775569470015, 49, None],\n",
       " [572.5775569470015, 17, <class_def.Passenger at 0x1624442e0>],\n",
       " [574.0136695042077, 17, None],\n",
       " [574.2520977095608, 79, <class_def.Passenger at 0x1624440d0>],\n",
       " [626.3174744942407, 79, None],\n",
       " [626.5648164129703, 158, <class_def.Passenger at 0x16243dee0>],\n",
       " [642.1016423415105, 158, None],\n",
       " [896.9402713569766, 231, <class_def.Passenger at 0x16243dd90>],\n",
       " [898.3698546833252, 231, None]]"
      ]
     },
     "execution_count": 38,
     "metadata": {},
     "output_type": "execute_result"
    }
   ],
   "source": [
    "driver_history[4].movement_history"
   ]
  },
  {
   "cell_type": "code",
   "execution_count": 44,
   "id": "b402aaa5-33be-4328-93a8-0e1f2da0fb27",
   "metadata": {},
   "outputs": [
    {
     "data": {
      "text/plain": [
       "[[64.49351385886686, 18, <class_def.Passenger at 0x162449400>],\n",
       " [145.3654598633153, 119, <class_def.Passenger at 0x162449250>],\n",
       " [159.23257890677544, 116, <class_def.Passenger at 0x1624490a0>],\n",
       " [477.9187256488144, 74, <class_def.Passenger at 0x162444f10>],\n",
       " [480.21601503137686, 74, <class_def.Passenger at 0x162444d60>],\n",
       " [480.4458624169016, 147, <class_def.Passenger at 0x162444bb0>],\n",
       " [480.6694868870957, 69, <class_def.Passenger at 0x162444a60>],\n",
       " [481.7848582726896, 138, <class_def.Passenger at 0x1624448e0>],\n",
       " [508.7200068514353, 66, <class_def.Passenger at 0x1624447c0>],\n",
       " [538.3116433242352, 138, None],\n",
       " [541.154781233991, 66, <class_def.Passenger at 0x1624445b0>],\n",
       " [564.5736529188889, 49, <class_def.Passenger at 0x1624443d0>],\n",
       " [572.5775569470015, 17, <class_def.Passenger at 0x1624442e0>],\n",
       " [574.2520977095608, 79, <class_def.Passenger at 0x1624440d0>],\n",
       " [626.5648164129703, 158, <class_def.Passenger at 0x16243dee0>],\n",
       " [896.9402713569766, 231, <class_def.Passenger at 0x16243dd90>]]"
      ]
     },
     "execution_count": 44,
     "metadata": {},
     "output_type": "execute_result"
    }
   ],
   "source": [
    "driver_history[4].movement_history[1::2]"
   ]
  },
  {
   "cell_type": "code",
   "execution_count": 45,
   "id": "543cf2a4-e148-4fe8-944c-71b85ff5f42f",
   "metadata": {},
   "outputs": [
    {
     "data": {
      "text/plain": [
       "[[79.64437571954895, 18, None],\n",
       " [159.1977599933724, 119, None],\n",
       " [160.58828175399194, 116, None],\n",
       " [479.8592605819846, 74, None],\n",
       " [480.3414053074781, 74, None],\n",
       " [480.5053268275147, 147, None],\n",
       " [480.765820038673, 69, None],\n",
       " [508.7200068514353, 138, None],\n",
       " [538.3116433242352, 66, None],\n",
       " [541.154781233991, 138, None],\n",
       " [562.5455301973242, 66, None],\n",
       " [572.5775569470015, 49, None],\n",
       " [574.0136695042077, 17, None],\n",
       " [626.3174744942407, 79, None],\n",
       " [642.1016423415105, 158, None],\n",
       " [898.3698546833252, 231, None]]"
      ]
     },
     "execution_count": 45,
     "metadata": {},
     "output_type": "execute_result"
    }
   ],
   "source": [
    "driver_history[4].movement_history[2::2]"
   ]
  },
  {
   "cell_type": "code",
   "execution_count": 48,
   "id": "e27425c6-6812-4b19-869d-cc6a43fef215",
   "metadata": {},
   "outputs": [
    {
     "name": "stdout",
     "output_type": "stream",
     "text": [
      "64.49351385886686 15.150861860682085 3 18\n",
      "145.3654598633153 13.832300130057092 18 119\n",
      "159.23257890677544 1.3557028472164916 119 116\n",
      "477.9187256488144 1.94053493317017 116 74\n",
      "480.21601503137686 0.12539027610125686 74 74\n",
      "480.4458624169016 0.0594644106130886 74 147\n",
      "480.6694868870957 0.09633315157731204 147 69\n",
      "481.7848582726896 26.935148578745725 69 138\n",
      "508.7200068514353 29.591636472799905 138 66\n",
      "538.3116433242352 2.8431379097557965 66 138\n",
      "541.154781233991 21.39074896333318 138 66\n",
      "564.5736529188889 8.003904028112629 66 49\n",
      "572.5775569470015 1.4361125572061155 49 17\n",
      "574.2520977095608 52.065376784679984 17 79\n",
      "626.5648164129703 15.536825928540111 79 158\n",
      "896.9402713569766 1.4295833263486202 158 231\n"
     ]
    }
   ],
   "source": [
    "ex_driver = driver_history[4].movement_history\n",
    "saved_location = ex_driver[0][1]\n",
    "for d, a in zip(ex_driver[1::2], ex_driver[2::2]):\n",
    "    print(d[0], a[0] - d[0], saved_location, d[1])\n",
    "    saved_location = d[1]"
   ]
  },
  {
   "cell_type": "code",
   "execution_count": null,
   "id": "c281d56b-cf29-4c49-b521-94cc6598129c",
   "metadata": {},
   "outputs": [],
   "source": []
  }
 ],
 "metadata": {
  "kernelspec": {
   "display_name": "Python 3 (ipykernel)",
   "language": "python",
   "name": "python3"
  },
  "language_info": {
   "codemirror_mode": {
    "name": "ipython",
    "version": 3
   },
   "file_extension": ".py",
   "mimetype": "text/x-python",
   "name": "python",
   "nbconvert_exporter": "python",
   "pygments_lexer": "ipython3",
   "version": "3.9.5"
  }
 },
 "nbformat": 4,
 "nbformat_minor": 5
}
